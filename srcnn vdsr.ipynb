{
 "cells": [
  {
   "cell_type": "markdown",
   "metadata": {},
   "source": [
    "# Super resolution\n",
    "This notebook tries to repeat the result of [this article](https://arxiv.org/pdf/1511.04587.pdf \"Accurate Image Super-Resolution Using Very Deep Convolutional Networks\")"
   ]
  },
  {
   "cell_type": "markdown",
   "metadata": {},
   "source": [
    "## Preparation"
   ]
  },
  {
   "cell_type": "code",
   "execution_count": 1,
   "metadata": {
    "collapsed": true
   },
   "outputs": [],
   "source": [
    "import numpy as np\n",
    "import pandas as pd\n",
    "import matplotlib \n",
    "import caffe\n",
    "from matplotlib import pyplot as plt\n",
    "%matplotlib inline"
   ]
  },
  {
   "cell_type": "markdown",
   "metadata": {},
   "source": [
    "### Prepare dataset"
   ]
  },
  {
   "cell_type": "markdown",
   "metadata": {},
   "source": [
    "### Train"
   ]
  },
  {
   "cell_type": "code",
   "execution_count": 2,
   "metadata": {
    "collapsed": false
   },
   "outputs": [],
   "source": [
    "import os\n",
    "folder = 'datasets/berkley/BSDS300/images/train/reducedx2/'\n",
    "originals = [os.path.join(folder,f) for f in os.listdir(folder) if os.path.isfile(os.path.join(folder,f)) if 'reducedx2' not in f]\n",
    "reducedx2 = [os.path.join(folder,f) for f in os.listdir(folder) if os.path.isfile(os.path.join(folder,f)) if 'reducedx2' in f]"
   ]
  },
  {
   "cell_type": "code",
   "execution_count": 3,
   "metadata": {
    "collapsed": false
   },
   "outputs": [
    {
     "name": "stdout",
     "output_type": "stream",
     "text": [
      "196015.jpg\n",
      "reducedx2-109034.jpg\n"
     ]
    }
   ],
   "source": [
    "print(os.path.basename(originals[0]))\n",
    "print(os.path.basename(reducedx2[0]))"
   ]
  },
  {
   "cell_type": "code",
   "execution_count": 4,
   "metadata": {
    "collapsed": false
   },
   "outputs": [
    {
     "name": "stdout",
     "output_type": "stream",
     "text": [
      "200\n",
      "200\n"
     ]
    }
   ],
   "source": [
    "print(len(originals))\n",
    "print(len(reducedx2))"
   ]
  },
  {
   "cell_type": "code",
   "execution_count": 6,
   "metadata": {
    "collapsed": false
   },
   "outputs": [],
   "source": [
    "import lmdb\n",
    "from PIL import Image\n",
    "\n",
    "in_db = lmdb.open('berkley-train-image-lmdb', map_size=int(1e12))\n",
    "with in_db.begin(write=True) as in_txn:\n",
    "    for in_idx, in_ in enumerate(reducedx2):\n",
    "        im = Image.open(in_) # load image:\n",
    "        if im.height < im.width:\n",
    "            im = im.resize((505, 345), Image.BICUBIC) #40 pixels bigger because of convolutions\n",
    "        else:\n",
    "            im = im.resize((345, 505), Image.BICUBIC)\n",
    "        im = np.array(im) # - as np.uint8 {0, ..., 255}\n",
    "        im = im[:,:,::-1] # - in BGR (switch from RGB)\n",
    "        im = im.transpose((2,0,1)) # - in Channel x Height x Width order (switch from H x W x C)\n",
    "        im_dat = caffe.io.array_to_datum(im)\n",
    "        in_txn.put('{:0>10d}'.format(in_idx), im_dat.SerializeToString())\n",
    "in_db.close()\n",
    "\n",
    "residue_db = lmdb.open('berkley-train-residue-image-lmdb', map_size=int(1e12))\n",
    "with residue_db.begin(write=True) as in_txn:\n",
    "    for in_idx, in_ in enumerate(reducedx2):\n",
    "        im = Image.open(in_) # load image:\n",
    "        if im.height < im.width:\n",
    "            im = im.resize((481, 321), Image.BICUBIC)\n",
    "        else:\n",
    "            im = im.resize((321, 481), Image.BICUBIC)\n",
    "        im = np.array(im) # - as np.uint8 {0, ..., 255}\n",
    "        im = im[:,:,::-1] # - in BGR (switch from RGB)\n",
    "        im = im.transpose((2,0,1)) # - in Channel x Height x Width order (switch from H x W x C)\n",
    "        \n",
    "        orim = None\n",
    "        for original_path in originals:\n",
    "            if '-'+os.path.basename(original_path) in os.path.basename(in_):\n",
    "                orim = original_path\n",
    "                break\n",
    "\n",
    "        orim = np.array(Image.open(orim))\n",
    "        orim = orim[:,:,::-1]\n",
    "        orim = orim.transpose((2,0,1))\n",
    "        \n",
    "        residue = orim-im\n",
    "        im_res = caffe.io.array_to_datum(residue)\n",
    "        in_txn.put('{:0>10d}'.format(in_idx), im_res.SerializeToString())\n",
    "residue_db.close()"
   ]
  },
  {
   "cell_type": "markdown",
   "metadata": {},
   "source": [
    "### Test"
   ]
  },
  {
   "cell_type": "code",
   "execution_count": 6,
   "metadata": {
    "collapsed": false
   },
   "outputs": [],
   "source": [
    "import os\n",
    "folder = 'datasets/berkley/BSDS300/images/test/reducedx2/'\n",
    "originals = [os.path.join(folder,f) for f in os.listdir(folder) if os.path.isfile(os.path.join(folder,f)) if 'reducedx2' not in f]\n",
    "reducedx2 = [os.path.join(folder,f) for f in os.listdir(folder) if os.path.isfile(os.path.join(folder,f)) if 'reducedx2' in f]"
   ]
  },
  {
   "cell_type": "code",
   "execution_count": 7,
   "metadata": {
    "collapsed": false
   },
   "outputs": [
    {
     "name": "stdout",
     "output_type": "stream",
     "text": [
      "175032.jpg\n",
      "reducedx2-216081.jpg\n"
     ]
    }
   ],
   "source": [
    "print(os.path.basename(originals[0]))\n",
    "print(os.path.basename(reducedx2[0]))"
   ]
  },
  {
   "cell_type": "code",
   "execution_count": 8,
   "metadata": {
    "collapsed": false
   },
   "outputs": [
    {
     "name": "stdout",
     "output_type": "stream",
     "text": [
      "100\n",
      "100\n"
     ]
    }
   ],
   "source": [
    "print(len(originals))\n",
    "print(len(reducedx2))"
   ]
  },
  {
   "cell_type": "code",
   "execution_count": 9,
   "metadata": {
    "collapsed": false
   },
   "outputs": [],
   "source": [
    "import lmdb\n",
    "from PIL import Image\n",
    "\n",
    "in_db = lmdb.open('berkley-test-image-lmdb', map_size=int(1e12))\n",
    "with in_db.begin(write=True) as in_txn:\n",
    "    for in_idx, in_ in enumerate(reducedx2):\n",
    "        im = Image.open(in_) # load image:\n",
    "        if im.height < im.width:\n",
    "            im = im.resize((505, 345), Image.BICUBIC)\n",
    "        else:\n",
    "            im = im.resize((345, 505), Image.BICUBIC)\n",
    "        im = np.array(im) # - as np.uint8 {0, ..., 255}\n",
    "        im = im[:,:,::-1] # - in BGR (switch from RGB)\n",
    "        im = im.transpose((2,0,1)) # - in Channel x Height x Width order (switch from H x W x C)\n",
    "        im_dat = caffe.io.array_to_datum(im)\n",
    "        in_txn.put('{:0>10d}'.format(in_idx), im_dat.SerializeToString())\n",
    "in_db.close()\n",
    "\n",
    "residue_db = lmdb.open('berkley-test-residue-image-lmdb', map_size=int(1e12))\n",
    "with residue_db.begin(write=True) as in_txn:\n",
    "    for in_idx, in_ in enumerate(reducedx2):\n",
    "        im = Image.open(in_) # load image:\n",
    "        if im.height < im.width:\n",
    "            im = im.resize((481, 321), Image.ANTIALIAS)\n",
    "        else:\n",
    "            im = im.resize((321, 481), Image.ANTIALIAS)\n",
    "        im = np.array(im) # - as np.uint8 {0, ..., 255}\n",
    "        im = im[:,:,::-1] # - in BGR (switch from RGB)\n",
    "        im = im.transpose((2,0,1)) # - in Channel x Height x Width order (switch from H x W x C)\n",
    "        \n",
    "        orim = None\n",
    "        for original_path in originals:\n",
    "            if '-'+os.path.basename(original_path) in os.path.basename(in_):\n",
    "                orim = original_path\n",
    "                break\n",
    "\n",
    "        orim = np.array(Image.open(orim))\n",
    "        orim = orim[:,:,::-1]\n",
    "        orim = orim.transpose((2,0,1))\n",
    "        \n",
    "        residue = orim-im\n",
    "        im_res = caffe.io.array_to_datum(residue)\n",
    "        in_txn.put('{:0>10d}'.format(in_idx), im_res.SerializeToString())\n",
    "residue_db.close()"
   ]
  },
  {
   "cell_type": "markdown",
   "metadata": {},
   "source": [
    "### Prepare model"
   ]
  },
  {
   "cell_type": "code",
   "execution_count": 2,
   "metadata": {
    "collapsed": true
   },
   "outputs": [],
   "source": [
    "caffe.set_mode_gpu()"
   ]
  },
  {
   "cell_type": "code",
   "execution_count": 7,
   "metadata": {
    "collapsed": false
   },
   "outputs": [],
   "source": [
    "from caffe import layers as L, params as P\n",
    "\n",
    "def srcnn(lmdb1,lmdb2, batch_size, mean_file='abc'):\n",
    "    n = caffe.NetSpec()\n",
    "    \n",
    "    n.data = L.Data(batch_size=batch_size, backend=P.Data.LMDB, source=lmdb1, ntop=1)\n",
    "    n.residue = L.Data(batch_size=batch_size, backend=P.Data.LMDB, source=lmdb2, ntop=1) # need to crop here\n",
    "\n",
    "    n.conv1 = L.Convolution(n.data, kernel_size=3,num_output=64, weight_filler=dict(type='gaussian', std=0.01))\n",
    "    n.relu1 = L.ReLU(n.conv1, in_place=True)\n",
    "    n.conv2 = L.Convolution(n.relu1, kernel_size=3, num_output=64, weight_filler=dict(type='gaussian', std=0.01))\n",
    "    n.relu2 = L.ReLU(n.conv2, in_place=True)\n",
    "    n.conv3 = L.Convolution(n.relu2, kernel_size=3, num_output=64, weight_filler=dict(type='gaussian', std=0.01))\n",
    "    n.relu3 = L.ReLU(n.conv3, in_place=True)\n",
    "    n.conv4 = L.Convolution(n.relu3, kernel_size=3, num_output=64, weight_filler=dict(type='gaussian', std=0.01))\n",
    "    n.relu4 = L.ReLU(n.conv4, in_place=True)\n",
    "    n.conv5 = L.Convolution(n.relu4, kernel_size=3, num_output=64, weight_filler=dict(type='gaussian', std=0.01))\n",
    "    n.relu5 = L.ReLU(n.conv5, in_place=True)\n",
    "    n.conv6 = L.Convolution(n.relu5, kernel_size=3, num_output=64, weight_filler=dict(type='gaussian', std=0.01))\n",
    "    n.relu6 = L.ReLU(n.conv6, in_place=True)\n",
    "    #n.conv7 = L.Convolution(n.relu6, kernel_size=3,num_output=64, weight_filler=dict(type='gaussian', std=0.01))\n",
    "    #n.relu7 = L.ReLU(n.conv7, in_place=True)\n",
    "    #n.conv8 = L.Convolution(n.relu7, kernel_size=3, num_output=64, weight_filler=dict(type='gaussian', std=0.01))\n",
    "    #n.relu8 = L.ReLU(n.conv8, in_place=True)\n",
    "    #n.conv9 = L.Convolution(n.relu8, kernel_size=3, num_output=64, weight_filler=dict(type='gaussian', std=0.01))\n",
    "    #n.relu9 = L.ReLU(n.conv9, in_place=True)\n",
    "    #n.conv10 = L.Convolution(n.relu9, kernel_size=3, num_output=64, weight_filler=dict(type='gaussian', std=0.01))\n",
    "    #n.relu10 = L.ReLU(n.conv10, in_place=True)\n",
    "    #n.conv11 = L.Convolution(n.relu10, kernel_size=3, num_output=64, weight_filler=dict(type='gaussian', std=0.01))\n",
    "    #n.relu11 = L.ReLU(n.conv11, in_place=True)\n",
    "    #n.conv12 = L.Convolution(n.relu11, kernel_size=3, num_output=64, weight_filler=dict(type='gaussian', std=0.01))\n",
    "    #n.relu12 = L.ReLU(n.conv12, in_place=True)\n",
    "    #n.conv13 = L.Convolution(n.relu12, kernel_size=3, num_output=64, weight_filler=dict(type='gaussian', std=0.01))\n",
    "    #n.relu13 = L.ReLU(n.conv13, in_place=True)\n",
    "    #n.conv14 = L.Convolution(n.relu13, kernel_size=3, num_output=64, weight_filler=dict(type='gaussian', std=0.01))\n",
    "    #n.relu14 = L.ReLU(n.conv14, in_place=True)\n",
    "    n.conv15 = L.Convolution(n.relu6, kernel_size=3, num_output=64, weight_filler=dict(type='gaussian', std=0.01))\n",
    "    n.relu15 = L.ReLU(n.conv15, in_place=True)\n",
    "    n.conv16 = L.Convolution(n.relu15, kernel_size=3,num_output=64, weight_filler=dict(type='gaussian', std=0.01))\n",
    "    n.relu16 = L.ReLU(n.conv16, in_place=True)\n",
    "    n.conv17 = L.Convolution(n.relu16, kernel_size=3, num_output=64, weight_filler=dict(type='gaussian', std=0.01))\n",
    "    n.relu17 = L.ReLU(n.conv17, in_place=True)\n",
    "    n.conv18 = L.Convolution(n.relu17, kernel_size=3, num_output=64, weight_filler=dict(type='gaussian', std=0.01))\n",
    "    n.relu18 = L.ReLU(n.conv18, in_place=True)\n",
    "    n.conv19 = L.Convolution(n.relu18, kernel_size=3, num_output=64, weight_filler=dict(type='gaussian', std=0.01))\n",
    "    n.relu19 = L.ReLU(n.conv19, in_place=True)\n",
    "    n.conv20 = L.Convolution(n.relu19, kernel_size=3, num_output=3, weight_filler=dict(type='gaussian', std=0.01))\n",
    "\n",
    "    #n.crop1 = L.Crop(n.residue, n.conv20, axis=2, offset=40)\n",
    "    #n.crop2 = L.Crop(n.crop1, axis=3, offset=40)\n",
    "    \n",
    "    n.loss =  L.EuclideanLoss(n.conv20, n.residue)\n",
    "    return n.to_proto()\n",
    "\n",
    "# Important parameters!\n",
    "training_set_size = 200\n",
    "testing_set_size = 100\n",
    "train_batch_size = 3\n",
    "test_batch_size = 1"
   ]
  },
  {
   "cell_type": "code",
   "execution_count": 8,
   "metadata": {
    "collapsed": false
   },
   "outputs": [],
   "source": [
    "with open('srcnn_auto_train.prototxt', 'w+') as f:\n",
    "    f.write(str(srcnn('berkley-train-image-lmdb', 'berkley-train-residue-image-lmdb', train_batch_size, 'means/srcnn_train_mean.binaryproto')))\n",
    "    \n",
    "with open('srcnn_auto_test.prototxt', 'w+') as f:\n",
    "    f.write(str(srcnn('berkley-test-image-lmdb', 'berkley-test-residue-image-lmdb', test_batch_size, 'means/srcnn_test_mean.binaryproto')))"
   ]
  },
  {
   "cell_type": "code",
   "execution_count": null,
   "metadata": {
    "collapsed": true
   },
   "outputs": [],
   "source": [
    "!cat srcnn_auto_train.prototxt"
   ]
  },
  {
   "cell_type": "code",
   "execution_count": null,
   "metadata": {
    "collapsed": false,
    "scrolled": true
   },
   "outputs": [],
   "source": [
    "!cat srcnn_auto_train.prototxt"
   ]
  },
  {
   "cell_type": "code",
   "execution_count": null,
   "metadata": {
    "collapsed": false
   },
   "outputs": [],
   "source": [
    "!cat srcnn_auto_solver.prototxt"
   ]
  },
  {
   "cell_type": "code",
   "execution_count": 9,
   "metadata": {
    "collapsed": true
   },
   "outputs": [],
   "source": [
    "# initialize solver\n",
    "solver = caffe.SGDSolver('srcnn_auto_solver.prototxt')"
   ]
  },
  {
   "cell_type": "code",
   "execution_count": null,
   "metadata": {
    "collapsed": true
   },
   "outputs": [],
   "source": [
    "# restore model from iteration x\n",
    "solver.net.copy_from('breakpoints/toX.caffemodel')"
   ]
  },
  {
   "cell_type": "code",
   "execution_count": null,
   "metadata": {
    "collapsed": false
   },
   "outputs": [],
   "source": [
    "# define the structure of the model for the first time\n",
    "model_def = 'srcnn_auto_train.prototxt'\n",
    "net = caffe.Net(model_def,\n",
    "                caffe.TRAIN)"
   ]
  },
  {
   "cell_type": "code",
   "execution_count": 14,
   "metadata": {
    "collapsed": false
   },
   "outputs": [
    {
     "data": {
      "text/plain": [
       "[('data', (1, 3, 361, 521)),\n",
       " ('residue', (1, 3, 321, 481)),\n",
       " ('conv1', (1, 64, 359, 519)),\n",
       " ('conv2', (1, 64, 357, 517)),\n",
       " ('conv3', (1, 64, 355, 515)),\n",
       " ('conv4', (1, 64, 353, 513)),\n",
       " ('conv5', (1, 64, 351, 511)),\n",
       " ('conv6', (1, 64, 349, 509)),\n",
       " ('conv7', (1, 64, 347, 507)),\n",
       " ('conv8', (1, 64, 345, 505)),\n",
       " ('conv9', (1, 64, 343, 503)),\n",
       " ('conv10', (1, 64, 341, 501)),\n",
       " ('conv11', (1, 64, 339, 499)),\n",
       " ('conv12', (1, 64, 337, 497)),\n",
       " ('conv13', (1, 64, 335, 495)),\n",
       " ('conv14', (1, 64, 333, 493)),\n",
       " ('conv15', (1, 64, 331, 491)),\n",
       " ('conv16', (1, 64, 329, 489)),\n",
       " ('conv17', (1, 64, 327, 487)),\n",
       " ('conv18', (1, 64, 325, 485)),\n",
       " ('conv19', (1, 64, 323, 483)),\n",
       " ('conv20', (1, 3, 321, 481)),\n",
       " ('loss', ())]"
      ]
     },
     "execution_count": 14,
     "metadata": {},
     "output_type": "execute_result"
    }
   ],
   "source": [
    "# each output is (batch size, feature dim, spatial dim)\n",
    "[(k, v.data.shape) for k, v in solver.net.blobs.items()]"
   ]
  },
  {
   "cell_type": "code",
   "execution_count": 15,
   "metadata": {
    "collapsed": false
   },
   "outputs": [
    {
     "data": {
      "text/plain": [
       "[('conv1', (64, 3, 3, 3)),\n",
       " ('conv2', (64, 64, 3, 3)),\n",
       " ('conv3', (64, 64, 3, 3)),\n",
       " ('conv4', (64, 64, 3, 3)),\n",
       " ('conv5', (64, 64, 3, 3)),\n",
       " ('conv6', (64, 64, 3, 3)),\n",
       " ('conv7', (64, 64, 3, 3)),\n",
       " ('conv8', (64, 64, 3, 3)),\n",
       " ('conv9', (64, 64, 3, 3)),\n",
       " ('conv10', (64, 64, 3, 3)),\n",
       " ('conv11', (64, 64, 3, 3)),\n",
       " ('conv12', (64, 64, 3, 3)),\n",
       " ('conv13', (64, 64, 3, 3)),\n",
       " ('conv14', (64, 64, 3, 3)),\n",
       " ('conv15', (64, 64, 3, 3)),\n",
       " ('conv16', (64, 64, 3, 3)),\n",
       " ('conv17', (64, 64, 3, 3)),\n",
       " ('conv18', (64, 64, 3, 3)),\n",
       " ('conv19', (64, 64, 3, 3)),\n",
       " ('conv20', (3, 64, 3, 3))]"
      ]
     },
     "execution_count": 15,
     "metadata": {},
     "output_type": "execute_result"
    }
   ],
   "source": [
    "# just print the weight sizes (we'll omit the biases)\n",
    "[(k, v[0].data.shape) for k, v in solver.net.params.items()]"
   ]
  },
  {
   "cell_type": "markdown",
   "metadata": {},
   "source": [
    "## Work"
   ]
  },
  {
   "cell_type": "code",
   "execution_count": null,
   "metadata": {
    "collapsed": false
   },
   "outputs": [],
   "source": [
    "%%time\n",
    "\n",
    "niter = 200000\n",
    "test_interval = 200\n",
    "train_interval = 50\n",
    "# losses will also be stored in the log\n",
    "train_loss = np.zeros(int(np.ceil(niter / train_interval)))\n",
    "test_loss = np.zeros(int(np.ceil(niter // test_interval)))\n",
    "pictures_number = niter // test_interval\n",
    "rowsnum = 10\n",
    "picidx = 0\n",
    "# the main solver loop\n",
    "for it in range(niter):\n",
    "    solver.step(1)  # SGD by Caffe\n",
    "    # store the train loss\n",
    "    if it % train_interval == 0:\n",
    "        train_loss[it / train_interval] = solver.net.blobs['loss'].data\n",
    "    \n",
    "    # run a full test every so often\n",
    "    # (Caffe can also do this for us and write to a log, but we show here\n",
    "    #  how to do it directly in Python, where more complicated things are easier.)\n",
    "    if it % test_interval == 0:\n",
    "        picidx += 1\n",
    "        print 'Iteration', it, 'testing...'\n",
    "        score = 0.0\n",
    "        for test_it in range(testing_set_size // test_batch_size):\n",
    "            solver.test_nets[0].forward()\n",
    "            score = solver.test_nets[0].blobs['loss'].data\n",
    "        test_loss[it // test_interval] = score\n"
   ]
  },
  {
   "cell_type": "markdown",
   "metadata": {},
   "source": [
    "## Other"
   ]
  },
  {
   "cell_type": "code",
   "execution_count": 11,
   "metadata": {
    "collapsed": true
   },
   "outputs": [],
   "source": [
    "# send results via email\n",
    "#!/usr/bin/env python\n",
    "# encoding: utf-8\n",
    "\n",
    "import smtplib\n",
    "from datetime import datetime\n",
    "\n",
    "\n",
    "def noticeEMail(train_str, test_str, usr, psw, fromaddr, toaddr):\n",
    "    \"\"\"\n",
    "    Sends an email message through GMail once the script is completed.  \n",
    "    Developed to be used with AWS so that instances can be terminated \n",
    "    once a long job is done. Only works for those with GMail accounts.\n",
    "    \n",
    "    starttime : a datetime() object for when to start run time clock\n",
    "    usr : the GMail username, as a string\n",
    "    psw : the GMail password, as a string \n",
    "    \n",
    "    fromaddr : the email address the message will be from, as a string\n",
    "    \n",
    "    toaddr : a email address, or a list of addresses, to send the \n",
    "             message to\n",
    "    \"\"\"\n",
    "\n",
    "    \n",
    "    # Initialize SMTP server\n",
    "    server=smtplib.SMTP('smtp.gmail.com:587')\n",
    "    server.starttls()\n",
    "    server.login(usr,psw)\n",
    "    \n",
    "    # Send email\n",
    "    senddate=datetime.strftime(datetime.now(), '%Y-%m-%d')\n",
    "    subject=\"Your job is complete\"\n",
    "    m=\"Date: %s\\r\\nFrom: %s\\r\\nTo: %s\\r\\nSubject: %s\\r\\nX-Mailer: My-Mail\\r\\n\\r\\n\" % (senddate, fromaddr, toaddr, subject)\n",
    "    msg='''\n",
    "    \n",
    "    train: ''' + train_str + ''' \n",
    "    \n",
    "    test ''' + test_str\n",
    "    \n",
    "    server.sendmail(fromaddr, toaddr, m+msg)\n",
    "    server.quit()\n",
    "\n",
    "\n",
    "if __name__ == '__main__':    \n",
    "    # Fill these in with the appropriate info...\n",
    "    usr='dem4064@gmail.com'\n",
    "    # psw=''\n",
    "    fromaddr='dem4064@gmail.com'\n",
    "    toaddr='dmitriy.denisenko@phystech.edu'\n",
    "\n",
    "    # Send notification email\n",
    "    noticeEMail(np.array_str(train_loss), np.array_str(test_loss), usr, psw, fromaddr, toaddr)"
   ]
  },
  {
   "cell_type": "code",
   "execution_count": 10,
   "metadata": {
    "collapsed": false
   },
   "outputs": [
    {
     "data": {
      "image/png": "[encoded data removed]",
      "text/plain": [
       "<matplotlib.figure.Figure at 0x7f606021c2d0>"
      ]
     },
     "metadata": {},
     "output_type": "display_data"
    }
   ],
   "source": [
    "from matplotlib import pyplot as plt\n",
    "%matplotlib inline\n",
    "plt.figure(num=1, figsize=(48,24), dpi=80, facecolor='w', edgecolor='k')\n",
    "plt.subplot()\n",
    "plt.grid(True)\n",
    "plt.plot(train_interval * np.arange(len(train_loss)), train_loss)\n",
    "plt.plot(test_interval * np.arange(len(test_loss)), test_loss, 'r')\n",
    "plt.xlabel('iteration')\n",
    "plt.ylabel('loss')\n",
    "plt.title('loss, iteration %d' % it)\n",
    "plt.legend(['train', 'test'], loc='best')\n",
    "plt.show()"
   ]
  },
  {
   "cell_type": "code",
   "execution_count": null,
   "metadata": {
    "collapsed": true
   },
   "outputs": [],
   "source": []
  }
 ],
 "metadata": {
  "anaconda-cloud": {},
  "kernelspec": {
   "display_name": "Python [default]",
   "language": "python",
   "name": "python2"
  },
  "language_info": {
   "codemirror_mode": {
    "name": "ipython",
    "version": 2
   },
   "file_extension": ".py",
   "mimetype": "text/x-python",
   "name": "python",
   "nbconvert_exporter": "python",
   "pygments_lexer": "ipython2",
   "version": "2.7.12"
  }
 },
 "nbformat": 4,
 "nbformat_minor": 1
}
