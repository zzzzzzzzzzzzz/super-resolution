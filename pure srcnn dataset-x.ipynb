{
 "cells": [
  {
   "cell_type": "markdown",
   "metadata": {},
   "source": [
    "# Super resolution\n",
    "This notebook tries to repeat the result of [this article](https://arxiv.org/pdf/1511.04587.pdf \"Accurate Image Super-Resolution Using Very Deep Convolutional Networks\")"
   ]
  },
  {
   "cell_type": "markdown",
   "metadata": {},
   "source": [
    "## Preparation"
   ]
  },
  {
   "cell_type": "code",
   "execution_count": 1,
   "metadata": {
    "collapsed": true
   },
   "outputs": [],
   "source": [
    "import numpy as np\n",
    "import pandas as pd\n",
    "import matplotlib \n",
    "import caffe\n",
    "from matplotlib import pyplot as plt\n",
    "%matplotlib inline"
   ]
  },
  {
   "cell_type": "code",
   "execution_count": 2,
   "metadata": {
    "collapsed": true
   },
   "outputs": [],
   "source": [
    "delta = abs(-9-1-5+3)"
   ]
  },
  {
   "cell_type": "code",
   "execution_count": 3,
   "metadata": {
    "collapsed": true
   },
   "outputs": [],
   "source": [
    "def crop_center(imobj, new_width, new_height):\n",
    "    width, height =imobj.size\n",
    "    left = (width - N)/2\n",
    "    top = (height - N)/2\n",
    "    right = (width + N)/2\n",
    "    bottom = (height + N)/2\n",
    "\n",
    "    return imobj.crop((left, top, right, bottom))\n",
    "\n",
    "def generate_crops(number, width, height, crop_width, crop_height):\n",
    "    crops = []\n",
    "    for i in range(number):\n",
    "        x = randint(0,width-crop_width)\n",
    "        y = randint(0,height-crop_height)\n",
    "        crops.append((x, y, x + crop_width, y + crop_height))\n",
    "    return crops"
   ]
  },
  {
   "cell_type": "markdown",
   "metadata": {},
   "source": [
    "### Prepare dataset"
   ]
  },
  {
   "cell_type": "markdown",
   "metadata": {},
   "source": [
    "### Train"
   ]
  },
  {
   "cell_type": "code",
   "execution_count": 25,
   "metadata": {},
   "outputs": [],
   "source": [
    "import os\n",
    "N = 297\n",
    "SUB = 33\n",
    "Nsubs = 30\n",
    "ScaleFactor = 2\n",
    "folder = 'datasets/berkley/BSDS300/images/train/original/'\n",
    "originals = [os.path.join(folder,f) for f in os.listdir(folder) if os.path.isfile(os.path.join(folder,f))]\n",
    "hrdir = os.path.join(folder,'hr/')\n",
    "if not os.path.exists(hrdir):\n",
    "    os.makedirs(hrdir)\n",
    "    \n",
    "lrdir = os.path.join(folder,'lr/')\n",
    "if not os.path.exists(lrdir):\n",
    "    os.makedirs(lrdir)"
   ]
  },
  {
   "cell_type": "code",
   "execution_count": 26,
   "metadata": {},
   "outputs": [],
   "source": [
    "from PIL import Image\n",
    "from PIL import ImageFilter\n",
    "from random import randint\n",
    "\n",
    "\n",
    "for idx, im in enumerate(originals):\n",
    "    pim = Image.open(im)\n",
    "    pim = crop_center(pim, N, N)\n",
    "    crops = generate_crops(Nsubs, N, N, SUB, SUB)\n",
    "    for j, crop_tuple in enumerate(crops):\n",
    "        sim = pim.crop(crop_tuple)\n",
    "        sim.save(os.path.join(hrdir,'%d-%d.jpg' % (idx,j)))\n",
    "        sim = sim.filter(ImageFilter.GaussianBlur(radius=1))\n",
    "        sim = sim.resize((SUB // ScaleFactor, SUB // ScaleFactor), Image.BICUBIC)\n",
    "        sim = sim.resize((SUB+delta,SUB+delta), Image.BICUBIC)\n",
    "        sim.save(os.path.join(lrdir,'%d-%d-F%d.jpg' % (idx,j,ScaleFactor)))\n",
    "        \n",
    "    \n",
    "    "
   ]
  },
  {
   "cell_type": "code",
   "execution_count": 27,
   "metadata": {},
   "outputs": [],
   "source": [
    "import lmdb\n",
    "\n",
    "lrs = sorted([os.path.join(lrdir,f) for f in os.listdir(lrdir) if os.path.isfile(os.path.join(lrdir,f))])\n",
    "in_db = lmdb.open('berkley-train-image-lmdb-srcnn-dataset-x', map_size=int(1e12))\n",
    "with in_db.begin(write=True) as in_txn:\n",
    "    for in_idx, in_ in enumerate(lrs):\n",
    "        im = Image.open(in_) # load image:\n",
    "        im = np.array(im) # - as np.uint8 {0, ..., 255}\n",
    "        im = im[:,:,::-1] # - in BGR (switch from RGB)\n",
    "        im = im.transpose((2,0,1)) # - in Channel x Height x Width order (switch from H x W x C)\n",
    "        im_dat = caffe.io.array_to_datum(im)\n",
    "        in_txn.put('{:0>10d}'.format(in_idx), im_dat.SerializeToString())\n",
    "in_db.close()\n",
    "\n",
    "hrs = sorted([os.path.join(hrdir,f) for f in os.listdir(hrdir) if os.path.isfile(os.path.join(hrdir,f))])\n",
    "orim_db = lmdb.open('berkley-train-orim-image-lmdb-srcnn-dataset-x', map_size=int(1e12))\n",
    "with orim_db.begin(write=True) as in_txn:\n",
    "    for in_idx, in_ in enumerate(hrs):\n",
    "        orim = np.array(Image.open(in_))\n",
    "        orim = orim[:,:,::-1]\n",
    "        orim = orim.transpose((2,0,1))\n",
    "        \n",
    "        im_res = caffe.io.array_to_datum(orim)\n",
    "        in_txn.put('{:0>10d}'.format(in_idx), im_res.SerializeToString())\n",
    "orim_db.close()"
   ]
  },
  {
   "cell_type": "code",
   "execution_count": 28,
   "metadata": {},
   "outputs": [
    {
     "name": "stdout",
     "output_type": "stream",
     "text": [
      "['datasets/berkley/BSDS300/images/train/original/lr/0-0-F2.jpg', 'datasets/berkley/BSDS300/images/train/original/lr/0-1-F2.jpg', 'datasets/berkley/BSDS300/images/train/original/lr/0-10-F2.jpg', 'datasets/berkley/BSDS300/images/train/original/lr/0-11-F2.jpg', 'datasets/berkley/BSDS300/images/train/original/lr/0-12-F2.jpg']\n",
      "['datasets/berkley/BSDS300/images/train/original/hr/0-0.jpg', 'datasets/berkley/BSDS300/images/train/original/hr/0-1.jpg', 'datasets/berkley/BSDS300/images/train/original/hr/0-10.jpg', 'datasets/berkley/BSDS300/images/train/original/hr/0-11.jpg', 'datasets/berkley/BSDS300/images/train/original/hr/0-12.jpg']\n"
     ]
    }
   ],
   "source": [
    "print(lrs[:5])\n",
    "print(hrs[:5])"
   ]
  },
  {
   "cell_type": "markdown",
   "metadata": {},
   "source": [
    "### Test (actually validation)"
   ]
  },
  {
   "cell_type": "code",
   "execution_count": 29,
   "metadata": {},
   "outputs": [],
   "source": [
    "import os\n",
    "N = 297\n",
    "SUB = 33\n",
    "Nsubs = 30\n",
    "ScaleFactor = 2\n",
    "folder = 'datasets/berkley/BSDS300/images/test/original/'\n",
    "originals = [os.path.join(folder,f) for f in os.listdir(folder) if os.path.isfile(os.path.join(folder,f))]\n",
    "hrdir = os.path.join(folder,'hr/')\n",
    "if not os.path.exists(hrdir):\n",
    "    os.makedirs(hrdir)\n",
    "    \n",
    "lrdir = os.path.join(folder,'lr/')\n",
    "if not os.path.exists(lrdir):\n",
    "    os.makedirs(lrdir)"
   ]
  },
  {
   "cell_type": "code",
   "execution_count": 30,
   "metadata": {},
   "outputs": [],
   "source": [
    "from PIL import Image\n",
    "from PIL import ImageFilter\n",
    "from random import randint\n",
    "\n",
    "for idx, im in enumerate(originals):\n",
    "    pim = Image.open(im)\n",
    "    pim = crop_center(pim, N, N)\n",
    "    crops = generate_crops(Nsubs, N, N, SUB, SUB)\n",
    "    for j, crop_tuple in enumerate(crops):\n",
    "        sim = pim.crop(crop_tuple)\n",
    "        sim.save(os.path.join(hrdir,'%d-%d.jpg' % (idx,j)))\n",
    "        sim = sim.filter(ImageFilter.GaussianBlur(radius=1))\n",
    "        sim = sim.resize((SUB // ScaleFactor, SUB // ScaleFactor), Image.BICUBIC)\n",
    "        sim = sim.resize((SUB+delta,SUB+delta), Image.BICUBIC)\n",
    "        sim.save(os.path.join(lrdir,'%d-%d-F%d.jpg' % (idx,j,ScaleFactor)))\n",
    "        \n",
    "    \n",
    "    "
   ]
  },
  {
   "cell_type": "code",
   "execution_count": 31,
   "metadata": {},
   "outputs": [],
   "source": [
    "import lmdb\n",
    "\n",
    "lrs = sorted([os.path.join(lrdir,f) for f in os.listdir(lrdir) if os.path.isfile(os.path.join(lrdir,f))])\n",
    "in_db = lmdb.open('berkley-test-image-lmdb-srcnn-dataset-x', map_size=int(1e12))\n",
    "with in_db.begin(write=True) as in_txn:\n",
    "    for in_idx, in_ in enumerate(lrs):\n",
    "        im = Image.open(in_) # load image:\n",
    "        im = np.array(im) # - as np.uint8 {0, ..., 255}\n",
    "        im = im[:,:,::-1] # - in BGR (switch from RGB)\n",
    "        im = im.transpose((2,0,1)) # - in Channel x Height x Width order (switch from H x W x C)\n",
    "        im_dat = caffe.io.array_to_datum(im)\n",
    "        in_txn.put('{:0>10d}'.format(in_idx), im_dat.SerializeToString())\n",
    "in_db.close()\n",
    "\n",
    "hrs = sorted([os.path.join(hrdir,f) for f in os.listdir(hrdir) if os.path.isfile(os.path.join(hrdir,f))])\n",
    "orim_db = lmdb.open('berkley-test-orim-image-lmdb-srcnn-dataset-x', map_size=int(1e12))\n",
    "with orim_db.begin(write=True) as in_txn:\n",
    "    for in_idx, in_ in enumerate(hrs):\n",
    "        orim = np.array(Image.open(in_))\n",
    "        orim = orim[:,:,::-1]\n",
    "        orim = orim.transpose((2,0,1))\n",
    "        \n",
    "        im_res = caffe.io.array_to_datum(orim)\n",
    "        in_txn.put('{:0>10d}'.format(in_idx), im_res.SerializeToString())\n",
    "orim_db.close()"
   ]
  },
  {
   "cell_type": "code",
   "execution_count": 32,
   "metadata": {},
   "outputs": [
    {
     "name": "stdout",
     "output_type": "stream",
     "text": [
      "['datasets/berkley/BSDS300/images/test/original/lr/0-0-F2.jpg', 'datasets/berkley/BSDS300/images/test/original/lr/0-1-F2.jpg', 'datasets/berkley/BSDS300/images/test/original/lr/0-10-F2.jpg', 'datasets/berkley/BSDS300/images/test/original/lr/0-11-F2.jpg', 'datasets/berkley/BSDS300/images/test/original/lr/0-12-F2.jpg']\n",
      "['datasets/berkley/BSDS300/images/test/original/hr/0-0.jpg', 'datasets/berkley/BSDS300/images/test/original/hr/0-1.jpg', 'datasets/berkley/BSDS300/images/test/original/hr/0-10.jpg', 'datasets/berkley/BSDS300/images/test/original/hr/0-11.jpg', 'datasets/berkley/BSDS300/images/test/original/hr/0-12.jpg']\n"
     ]
    }
   ],
   "source": [
    "print(lrs[:5])\n",
    "print(hrs[:5])"
   ]
  },
  {
   "cell_type": "markdown",
   "metadata": {},
   "source": [
    "### Prepare model"
   ]
  },
  {
   "cell_type": "code",
   "execution_count": 4,
   "metadata": {
    "collapsed": true
   },
   "outputs": [],
   "source": [
    "caffe.set_mode_gpu()"
   ]
  },
  {
   "cell_type": "code",
   "execution_count": 5,
   "metadata": {},
   "outputs": [],
   "source": [
    "from caffe import layers as L, params as P\n",
    "\n",
    "def srcnn(lmdb1,lmdb2, batch_size, mean_file='abc'):\n",
    "    n = caffe.NetSpec()\n",
    "    \n",
    "    n.data = L.Data(batch_size=batch_size, backend=P.Data.LMDB, source=lmdb1, ntop=1)\n",
    "    n.orim = L.Data(batch_size=batch_size, backend=P.Data.LMDB, source=lmdb2, ntop=1)\n",
    "\n",
    "    n.conv1 = L.Convolution(n.data, kernel_size=9, num_output=64, weight_filler=dict(type='gaussian', std=0.01))\n",
    "    n.relu1 = L.ReLU(n.conv1, in_place=True)\n",
    "    n.conv2 = L.Convolution(n.relu1, kernel_size=1, num_output=32, weight_filler=dict(type='gaussian', std=0.01))\n",
    "    n.relu2 = L.ReLU(n.conv2, in_place=True)\n",
    "    n.conv3 = L.Convolution(n.relu2, kernel_size=5, num_output=3, weight_filler=dict(type='gaussian', std=0.01))\n",
    "    \n",
    "\n",
    "    #n.crop1 = L.Crop(n.residue, n.conv20, axis=2, offset=40)\n",
    "    #n.crop2 = L.Crop(n.crop1, axis=3, offset=40)\n",
    "    \n",
    "    n.loss =  L.EuclideanLoss(n.conv3, n.orim)\n",
    "    return n.to_proto()\n",
    "\n",
    "# Important parameters!\n",
    "training_set_size = 6000\n",
    "testing_set_size = 3000\n",
    "train_batch_size = 2000\n",
    "test_batch_size = 1"
   ]
  },
  {
   "cell_type": "code",
   "execution_count": 6,
   "metadata": {},
   "outputs": [],
   "source": [
    "with open('srcnn_auto_train_srcnn-dataset-x.prototxt', 'w+') as f:\n",
    "    f.write(str(srcnn('berkley-train-image-lmdb-srcnn-dataset-x', 'berkley-train-orim-image-lmdb-srcnn-dataset-x', train_batch_size, 'means/srcnn_train_mean.binaryproto')))\n",
    "    \n",
    "with open('srcnn_auto_test_srcnn-dataset-x.prototxt', 'w+') as f:\n",
    "    f.write(str(srcnn('berkley-test-image-lmdb-srcnn-dataset-x', 'berkley-test-orim-image-lmdb-srcnn-dataset-x', test_batch_size, 'means/srcnn_test_mean.binaryproto')))"
   ]
  },
  {
   "cell_type": "code",
   "execution_count": null,
   "metadata": {
    "collapsed": true
   },
   "outputs": [],
   "source": [
    "!cat srcnn_auto_train_srcnn-dataset-x.prototxt"
   ]
  },
  {
   "cell_type": "code",
   "execution_count": null,
   "metadata": {
    "scrolled": true
   },
   "outputs": [],
   "source": [
    "!cat srcnn_auto_train_srcnn-dataset-x.prototxt"
   ]
  },
  {
   "cell_type": "code",
   "execution_count": null,
   "metadata": {},
   "outputs": [],
   "source": [
    "!cat srcnn_auto_solver_srcnn.prototxt"
   ]
  },
  {
   "cell_type": "code",
   "execution_count": 7,
   "metadata": {},
   "outputs": [],
   "source": [
    "# initialize solver\n",
    "solver = caffe.SGDSolver('srcnn_auto_solver_srcnn-dataset-x.prototxt')"
   ]
  },
  {
   "cell_type": "code",
   "execution_count": 8,
   "metadata": {
    "collapsed": true
   },
   "outputs": [],
   "source": [
    "# restore model from iteration x\n",
    "solver.net.copy_from('snapshot/srcnn-dataset-x-24000.caffemodel')"
   ]
  },
  {
   "cell_type": "code",
   "execution_count": null,
   "metadata": {},
   "outputs": [],
   "source": [
    "# define the structure of the model for the first time\n",
    "model_def = 'srcnn_auto_train_srcnn-dataset-x.prototxt'\n",
    "net = caffe.Net(model_def,\n",
    "                caffe.TRAIN)"
   ]
  },
  {
   "cell_type": "code",
   "execution_count": 6,
   "metadata": {},
   "outputs": [
    {
     "data": {
      "text/plain": [
       "[('data', (100, 3, 45, 45)),\n",
       " ('orim', (100, 3, 33, 33)),\n",
       " ('conv1', (100, 64, 37, 37)),\n",
       " ('conv2', (100, 32, 37, 37)),\n",
       " ('conv3', (100, 3, 33, 33)),\n",
       " ('loss', ())]"
      ]
     },
     "execution_count": 6,
     "metadata": {},
     "output_type": "execute_result"
    }
   ],
   "source": [
    "# each output is (batch size, feature dim, spatial dim)\n",
    "[(k, v.data.shape) for k, v in solver.net.blobs.items()]"
   ]
  },
  {
   "cell_type": "code",
   "execution_count": 7,
   "metadata": {},
   "outputs": [
    {
     "data": {
      "text/plain": [
       "[('conv1', (64, 3, 9, 9)), ('conv2', (32, 64, 1, 1)), ('conv3', (3, 32, 5, 5))]"
      ]
     },
     "execution_count": 7,
     "metadata": {},
     "output_type": "execute_result"
    }
   ],
   "source": [
    "# just print the weight sizes (we'll omit the biases)\n",
    "[(k, v[0].data.shape) for k, v in solver.net.params.items()]"
   ]
  },
  {
   "cell_type": "markdown",
   "metadata": {},
   "source": [
    "## Work"
   ]
  },
  {
   "cell_type": "code",
   "execution_count": null,
   "metadata": {},
   "outputs": [
    {
     "name": "stdout",
     "output_type": "stream",
     "text": [
      "Iteration 0 testing...\n"
     ]
    }
   ],
   "source": [
    "%%time\n",
    "\n",
    "niter = 960000\n",
    "test_interval = 300\n",
    "train_interval = 60\n",
    "# losses will also be stored in the log\n",
    "train_loss = np.zeros(int(np.ceil(niter / train_interval)))\n",
    "test_loss = np.zeros(int(np.ceil(niter // test_interval)))\n",
    "pictures_number = niter // test_interval\n",
    "rowsnum = 10\n",
    "picidx = 0\n",
    "# the main solver loop\n",
    "for it in range(niter):\n",
    "    solver.step(1)  # SGD by Caffe\n",
    "    # store the train loss\n",
    "    if it % train_interval == 0:\n",
    "        train_loss[it // train_interval] = solver.net.blobs['loss'].data\n",
    "    \n",
    "    # run a full test every so often\n",
    "    # (Caffe can also do this for us and write to a log, but we show here\n",
    "    #  how to do it directly in Python, where more complicated things are easier.)\n",
    "    if it % test_interval == 0:\n",
    "        picidx += 1\n",
    "        print 'Iteration', it, 'testing...'\n",
    "        score = 0.0\n",
    "        for test_it in range(testing_set_size // test_batch_size):\n",
    "            solver.test_nets[0].forward()\n",
    "            score += solver.test_nets[0].blobs['loss'].data\n",
    "        test_loss[it // test_interval] = score\n"
   ]
  },
  {
   "cell_type": "markdown",
   "metadata": {},
   "source": [
    "## Other"
   ]
  },
  {
   "cell_type": "code",
   "execution_count": null,
   "metadata": {},
   "outputs": [],
   "source": [
    "# send results via email\n",
    "#!/usr/bin/env python\n",
    "# encoding: utf-8\n",
    "\n",
    "import smtplib\n",
    "from datetime import datetime\n",
    "\n",
    "\n",
    "def noticeEMail(train_str, test_str, usr, psw, fromaddr, toaddr):\n",
    "    \"\"\"\n",
    "    Sends an email message through GMail once the script is completed.  \n",
    "    Developed to be used with AWS so that instances can be terminated \n",
    "    once a long job is done. Only works for those with GMail accounts.\n",
    "    \n",
    "    starttime : a datetime() object for when to start run time clock\n",
    "    usr : the GMail username, as a string\n",
    "    psw : the GMail password, as a string \n",
    "    \n",
    "    fromaddr : the email address the message will be from, as a string\n",
    "    \n",
    "    toaddr : a email address, or a list of addresses, to send the \n",
    "             message to\n",
    "    \"\"\"\n",
    "\n",
    "    \n",
    "    # Initialize SMTP server\n",
    "    server=smtplib.SMTP('smtp.gmail.com:587')\n",
    "    server.starttls()\n",
    "    server.login(usr,psw)\n",
    "    \n",
    "    # Send email\n",
    "    senddate=datetime.strftime(datetime.now(), '%Y-%m-%d')\n",
    "    subject=\"Your job is complete\"\n",
    "    m=\"Date: %s\\r\\nFrom: %s\\r\\nTo: %s\\r\\nSubject: %s\\r\\nX-Mailer: My-Mail\\r\\n\\r\\n\" % (senddate, fromaddr, toaddr, subject)\n",
    "    msg='''\n",
    "    \n",
    "    train: ''' + train_str + ''' \n",
    "    \n",
    "    test ''' + test_str\n",
    "    \n",
    "    server.sendmail(fromaddr, toaddr, m+msg)\n",
    "    server.quit()\n",
    "\n",
    "\n",
    "if __name__ == '__main__':    \n",
    "    # Fill these in with the appropriate info...\n",
    "    usr='dem4064@gmail.com'\n",
    "    # psw=''\n",
    "    fromaddr='dem4064@gmail.com'\n",
    "    toaddr='dmitriy.denisenko@phystech.edu'\n",
    "\n",
    "    # Send notification email\n",
    "    noticeEMail(np.array_str(train_loss), np.array_str(test_loss), usr, psw, fromaddr, toaddr)"
   ]
  },
  {
   "cell_type": "code",
   "execution_count": 10,
   "metadata": {},
   "outputs": [
    {
     "data": {
      "image/png": "[encoded data removed]",
      "text/plain": [
       "<matplotlib.figure.Figure at 0x7f855f9525d0>"
      ]
     },
     "metadata": {},
     "output_type": "display_data"
    }
   ],
   "source": [
    "from matplotlib import pyplot as plt\n",
    "%matplotlib inline\n",
    "plt.figure(num=1, figsize=(48,24), dpi=80, facecolor='w', edgecolor='k')\n",
    "plt.subplot()\n",
    "plt.grid(True)\n",
    "plt.plot(train_interval * np.arange(len(train_loss)), train_loss)\n",
    "plt.plot(test_interval * np.arange(len(test_loss)), test_loss, 'r')\n",
    "plt.xlabel('iteration')\n",
    "plt.ylabel('loss')\n",
    "plt.title('loss, iteration %d' % it)\n",
    "plt.legend(['train', 'test'], loc='best')\n",
    "plt.show()\n"
   ]
  },
  {
   "cell_type": "code",
   "execution_count": null,
   "metadata": {},
   "outputs": [],
   "source": [
    "plt.figure(num=1, figsize=(48,24), dpi=80, facecolor='w', edgecolor='k')\n",
    "_, ax1 = plt.subplots()\n",
    "ax2 = ax1.twinx()\n",
    "ax1.plot(train_interval * np.arange(len(train_loss)), train_loss)\n",
    "ax2.plot(test_interval * np.arange(len(test_loss)), test_loss, 'r')\n",
    "ax1.set_xlabel('iteration')\n",
    "ax1.set_ylabel('train loss')\n",
    "ax2.set_ylabel('test loss')\n",
    "plt.show()"
   ]
  },
  {
   "cell_type": "markdown",
   "metadata": {
    "collapsed": true
   },
   "source": [
    "### Test on Set5"
   ]
  },
  {
   "cell_type": "code",
   "execution_count": 4,
   "metadata": {},
   "outputs": [],
   "source": [
    "import os\n",
    "N = 297\n",
    "SUB = 33\n",
    "Nsubs = 30\n",
    "ScaleFactor = 2\n",
    "folder = 'datasets/Set5/original/'\n",
    "originals = [os.path.join(folder,f) for f in os.listdir(folder) if os.path.isfile(os.path.join(folder,f))]\n",
    "hrdir = os.path.join(folder,'hr/')\n",
    "if not os.path.exists(hrdir):\n",
    "    os.makedirs(hrdir)\n",
    "    \n",
    "lrdir = os.path.join(folder,'lr/')\n",
    "if not os.path.exists(lrdir):\n",
    "    os.makedirs(lrdir)"
   ]
  },
  {
   "cell_type": "code",
   "execution_count": 21,
   "metadata": {},
   "outputs": [],
   "source": [
    "from PIL import Image\n",
    "from PIL import ImageFilter\n",
    "from random import randint\n",
    "\n",
    "for idx, im in enumerate(originals):\n",
    "    pim = Image.open(im)\n",
    "    # pim = crop_center(pim, N, N)\n",
    "    crops = generate_crops(Nsubs, N, N, SUB, SUB)\n",
    "    for j, crop_tuple in enumerate(crops):\n",
    "        sim = pim.crop(crop_tuple)\n",
    "        sim.save(os.path.join(hrdir,'%d-%d.jpg' % (idx,j)))\n",
    "        sim = sim.filter(ImageFilter.GaussianBlur(radius=1))\n",
    "        sim = sim.resize((SUB // ScaleFactor, SUB // ScaleFactor), Image.BICUBIC)\n",
    "        sim = sim.resize((SUB+delta,SUB+delta), Image.BICUBIC)\n",
    "        sim.save(os.path.join(lrdir,'%d-%d-F%d.jpg' % (idx,j,ScaleFactor)))\n",
    "        \n",
    "    \n",
    "    "
   ]
  },
  {
   "cell_type": "code",
   "execution_count": 5,
   "metadata": {},
   "outputs": [],
   "source": [
    "lrs = sorted([os.path.join(lrdir,f) for f in os.listdir(lrdir) if os.path.isfile(os.path.join(lrdir,f))])\n",
    "hrs = sorted([os.path.join(hrdir,f) for f in os.listdir(hrdir) if os.path.isfile(os.path.join(hrdir,f))])"
   ]
  },
  {
   "cell_type": "code",
   "execution_count": 6,
   "metadata": {},
   "outputs": [
    {
     "name": "stdout",
     "output_type": "stream",
     "text": [
      "['datasets/Set5/original/lr/0-0-F2.jpg', 'datasets/Set5/original/lr/0-1-F2.jpg', 'datasets/Set5/original/lr/0-10-F2.jpg', 'datasets/Set5/original/lr/0-11-F2.jpg', 'datasets/Set5/original/lr/0-12-F2.jpg']\n",
      "['datasets/Set5/original/hr/0-0.jpg', 'datasets/Set5/original/hr/0-1.jpg', 'datasets/Set5/original/hr/0-10.jpg', 'datasets/Set5/original/hr/0-11.jpg', 'datasets/Set5/original/hr/0-12.jpg']\n"
     ]
    }
   ],
   "source": [
    "print(lrs[:5])\n",
    "print(hrs[:5])"
   ]
  },
  {
   "cell_type": "code",
   "execution_count": 7,
   "metadata": {
    "collapsed": true
   },
   "outputs": [],
   "source": [
    "weights = 'snapshot/srcnn-dataset-x-24000.caffemodel'\n",
    "model = 'srcnn-dataset-x-deploy.prototxt'\n",
    "\n",
    "net = caffe.Net(model, weights, caffe.TEST)"
   ]
  },
  {
   "cell_type": "code",
   "execution_count": 9,
   "metadata": {},
   "outputs": [
    {
     "name": "stderr",
     "output_type": "stream",
     "text": [
      "/usr/local/lib/python2.7/dist-packages/ipykernel_launcher.py:17: RuntimeWarning: divide by zero encountered in log10\n"
     ]
    }
   ],
   "source": [
    "from PIL import Image\n",
    "results = []\n",
    "psnrs = []\n",
    "\n",
    "for idx,f in enumerate(lrs):\n",
    "    x = np.array(Image.open(f))\n",
    "    img = x[:,:,::-1]\n",
    "    img = img.transpose((2,0,1))\n",
    "    img = img[None,:]\n",
    "    out = net.forward_all(data=img)\n",
    "    res = out['result'][0]\n",
    "    res = res.transpose((1,2,0))[:,:,::-1]\n",
    "    results.append(res.astype('uint8'))\n",
    "    y = np.array(Image.open(hrs[idx]))\n",
    "    y = y[:,:,::-1]\n",
    "    y = y.transpose((2,0,1))\n",
    "    psnr = 20*np.log10(np.max(y)/np.sqrt((1.0/SUB**2)*(np.sum((y[0]-out['result'][0][0])**2)+np.sum((y[1]-out['result'][0][1])**2)+np.sum((y[2]-out['result'][0][2])**2))))\n",
    "    psnrs.append(psnr)\n",
    "    \n",
    "    "
   ]
  },
  {
   "cell_type": "code",
   "execution_count": 64,
   "metadata": {},
   "outputs": [
    {
     "data": {
      "image/png": "[encoded data removed]",
      "text/plain": [
       "<PIL.JpegImagePlugin.JpegImageFile image mode=RGB size=45x45 at 0x7F4C06CA2C90>"
      ]
     },
     "execution_count": 64,
     "metadata": {},
     "output_type": "execute_result"
    }
   ],
   "source": [
    "from PIL import Image\n",
    "Image.open(lrs[0])"
   ]
  },
  {
   "cell_type": "code",
   "execution_count": 65,
   "metadata": {},
   "outputs": [
    {
     "data": {
      "image/png": "[encoded data removed]",
      "text/plain": [
       "<PIL.Image.Image image mode=RGB size=33x33 at 0x7F4C067B36D0>"
      ]
     },
     "execution_count": 65,
     "metadata": {},
     "output_type": "execute_result"
    }
   ],
   "source": [
    "Image.fromarray(results[0])"
   ]
  },
  {
   "cell_type": "code",
   "execution_count": 66,
   "metadata": {},
   "outputs": [
    {
     "data": {
      "image/png": "[encoded data removed]",
      "text/plain": [
       "<PIL.JpegImagePlugin.JpegImageFile image mode=RGB size=33x33 at 0x7F4C067B3350>"
      ]
     },
     "execution_count": 66,
     "metadata": {},
     "output_type": "execute_result"
    }
   ],
   "source": [
    "Image.open(hrs[0])"
   ]
  },
  {
   "cell_type": "code",
   "execution_count": 67,
   "metadata": {},
   "outputs": [
    {
     "data": {
      "image/png": "[encoded data removed]",
      "text/plain": [
       "<PIL.JpegImagePlugin.JpegImageFile image mode=RGB size=45x45 at 0x7F4C06FD4190>"
      ]
     },
     "execution_count": 67,
     "metadata": {},
     "output_type": "execute_result"
    }
   ],
   "source": [
    "from PIL import Image\n",
    "Image.open(lrs[1])"
   ]
  },
  {
   "cell_type": "code",
   "execution_count": 68,
   "metadata": {},
   "outputs": [
    {
     "data": {
      "image/png": "[encoded data removed]",
      "text/plain": [
       "<PIL.Image.Image image mode=RGB size=33x33 at 0x7F4C067B3550>"
      ]
     },
     "execution_count": 68,
     "metadata": {},
     "output_type": "execute_result"
    }
   ],
   "source": [
    "Image.fromarray(results[1])"
   ]
  },
  {
   "cell_type": "code",
   "execution_count": 69,
   "metadata": {},
   "outputs": [
    {
     "data": {
      "image/png": "[encoded data removed]",
      "text/plain": [
       "<PIL.JpegImagePlugin.JpegImageFile image mode=RGB size=33x33 at 0x7F4C06A49E10>"
      ]
     },
     "execution_count": 69,
     "metadata": {},
     "output_type": "execute_result"
    }
   ],
   "source": [
    "Image.open(hrs[1])"
   ]
  },
  {
   "cell_type": "code",
   "execution_count": 70,
   "metadata": {},
   "outputs": [
    {
     "data": {
      "image/png": "[encoded data removed]",
      "text/plain": [
       "<PIL.JpegImagePlugin.JpegImageFile image mode=RGB size=45x45 at 0x7F4C06764090>"
      ]
     },
     "execution_count": 70,
     "metadata": {},
     "output_type": "execute_result"
    }
   ],
   "source": [
    "from PIL import Image\n",
    "Image.open(lrs[2])"
   ]
  },
  {
   "cell_type": "code",
   "execution_count": 71,
   "metadata": {},
   "outputs": [
    {
     "data": {
      "image/png": "[encoded data removed]",
      "text/plain": [
       "<PIL.Image.Image image mode=RGB size=33x33 at 0x7F4C067B3B90>"
      ]
     },
     "execution_count": 71,
     "metadata": {},
     "output_type": "execute_result"
    }
   ],
   "source": [
    "Image.fromarray(results[2])"
   ]
  },
  {
   "cell_type": "code",
   "execution_count": 72,
   "metadata": {},
   "outputs": [
    {
     "data": {
      "image/png": "[encoded data removed]",
      "text/plain": [
       "<PIL.JpegImagePlugin.JpegImageFile image mode=RGB size=33x33 at 0x7F4C06FD4BD0>"
      ]
     },
     "execution_count": 72,
     "metadata": {},
     "output_type": "execute_result"
    }
   ],
   "source": [
    "Image.open(hrs[2])"
   ]
  },
  {
   "cell_type": "code",
   "execution_count": 73,
   "metadata": {},
   "outputs": [
    {
     "data": {
      "image/png": "[encoded data removed]",
      "text/plain": [
       "<PIL.JpegImagePlugin.JpegImageFile image mode=RGB size=45x45 at 0x7F4C067B3F90>"
      ]
     },
     "execution_count": 73,
     "metadata": {},
     "output_type": "execute_result"
    }
   ],
   "source": [
    "from PIL import Image\n",
    "Image.open(lrs[3])"
   ]
  },
  {
   "cell_type": "code",
   "execution_count": 74,
   "metadata": {},
   "outputs": [
    {
     "data": {
      "image/png": "[encoded data removed]",
      "text/plain": [
       "<PIL.Image.Image image mode=RGB size=33x33 at 0x7F4C06A49750>"
      ]
     },
     "execution_count": 74,
     "metadata": {},
     "output_type": "execute_result"
    }
   ],
   "source": [
    "Image.fromarray(results[3])"
   ]
  },
  {
   "cell_type": "code",
   "execution_count": 75,
   "metadata": {},
   "outputs": [
    {
     "data": {
      "image/png": "[encoded data removed]",
      "text/plain": [
       "<PIL.JpegImagePlugin.JpegImageFile image mode=RGB size=33x33 at 0x7F4C06FD4290>"
      ]
     },
     "execution_count": 75,
     "metadata": {},
     "output_type": "execute_result"
    }
   ],
   "source": [
    "Image.open(hrs[3])"
   ]
  },
  {
   "cell_type": "code",
   "execution_count": null,
   "metadata": {
    "collapsed": true
   },
   "outputs": [],
   "source": []
  },
  {
   "cell_type": "code",
   "execution_count": 73,
   "metadata": {},
   "outputs": [
    {
     "data": {
      "image/png": "[encoded data removed]",
      "text/plain": [
       "<PIL.JpegImagePlugin.JpegImageFile image mode=RGB size=45x45 at 0x7F4C067B3F90>"
      ]
     },
     "execution_count": 73,
     "metadata": {},
     "output_type": "execute_result"
    }
   ],
   "source": [
    "from PIL import Image\n",
    "Image.open(lrs[4])"
   ]
  },
  {
   "cell_type": "code",
   "execution_count": 74,
   "metadata": {},
   "outputs": [
    {
     "data": {
      "image/png": "[encoded data removed]",
      "text/plain": [
       "<PIL.Image.Image image mode=RGB size=33x33 at 0x7F4C06A49750>"
      ]
     },
     "execution_count": 74,
     "metadata": {},
     "output_type": "execute_result"
    }
   ],
   "source": [
    "Image.fromarray(results[4])"
   ]
  },
  {
   "cell_type": "code",
   "execution_count": 75,
   "metadata": {},
   "outputs": [
    {
     "data": {
      "image/png": "[encoded data removed]",
      "text/plain": [
       "<PIL.JpegImagePlugin.JpegImageFile image mode=RGB size=33x33 at 0x7F4C06FD4290>"
      ]
     },
     "execution_count": 75,
     "metadata": {},
     "output_type": "execute_result"
    }
   ],
   "source": [
    "Image.open(hrs[4])"
   ]
  },
  {
   "cell_type": "code",
   "execution_count": 76,
   "metadata": {},
   "outputs": [
    {
     "data": {
      "image/png": "[encoded data removed]",
      "text/plain": [
       "<PIL.JpegImagePlugin.JpegImageFile image mode=RGB size=45x45 at 0x7F4C06E3F0D0>"
      ]
     },
     "execution_count": 76,
     "metadata": {},
     "output_type": "execute_result"
    }
   ],
   "source": [
    "from PIL import Image\n",
    "Image.open(lrs[5])"
   ]
  },
  {
   "cell_type": "code",
   "execution_count": 77,
   "metadata": {},
   "outputs": [
    {
     "data": {
      "image/png": "[encoded data removed]",
      "text/plain": [
       "<PIL.Image.Image image mode=RGB size=33x33 at 0x7F4C06BB7790>"
      ]
     },
     "execution_count": 77,
     "metadata": {},
     "output_type": "execute_result"
    }
   ],
   "source": [
    "Image.fromarray(results[5])"
   ]
  },
  {
   "cell_type": "code",
   "execution_count": 78,
   "metadata": {},
   "outputs": [
    {
     "data": {
      "image/png": "[encoded data removed]",
      "text/plain": [
       "<PIL.JpegImagePlugin.JpegImageFile image mode=RGB size=33x33 at 0x7F4C06C21C10>"
      ]
     },
     "execution_count": 78,
     "metadata": {},
     "output_type": "execute_result"
    }
   ],
   "source": [
    "Image.open(hrs[5])"
   ]
  },
  {
   "cell_type": "code",
   "execution_count": null,
   "metadata": {
    "collapsed": true
   },
   "outputs": [],
   "source": []
  },
  {
   "cell_type": "code",
   "execution_count": 79,
   "metadata": {},
   "outputs": [
    {
     "data": {
      "image/png": "[encoded data removed]",
      "text/plain": [
       "<PIL.JpegImagePlugin.JpegImageFile image mode=RGB size=45x45 at 0x7F4C06E3F510>"
      ]
     },
     "execution_count": 79,
     "metadata": {},
     "output_type": "execute_result"
    }
   ],
   "source": [
    "from PIL import Image\n",
    "Image.open(lrs[15])"
   ]
  },
  {
   "cell_type": "code",
   "execution_count": 80,
   "metadata": {},
   "outputs": [
    {
     "data": {
      "image/png": "[encoded data removed]",
      "text/plain": [
       "<PIL.Image.Image image mode=RGB size=33x33 at 0x7F4C06E3FA10>"
      ]
     },
     "execution_count": 80,
     "metadata": {},
     "output_type": "execute_result"
    }
   ],
   "source": [
    "Image.fromarray(results[15])"
   ]
  },
  {
   "cell_type": "code",
   "execution_count": 81,
   "metadata": {},
   "outputs": [
    {
     "data": {
      "image/png": "[encoded data removed]",
      "text/plain": [
       "<PIL.JpegImagePlugin.JpegImageFile image mode=RGB size=33x33 at 0x7F4C06EF7FD0>"
      ]
     },
     "execution_count": 81,
     "metadata": {},
     "output_type": "execute_result"
    }
   ],
   "source": [
    "Image.open(hrs[15])"
   ]
  },
  {
   "cell_type": "code",
   "execution_count": null,
   "metadata": {
    "collapsed": true
   },
   "outputs": [],
   "source": []
  },
  {
   "cell_type": "code",
   "execution_count": 82,
   "metadata": {},
   "outputs": [
    {
     "data": {
      "image/png": "[encoded data removed]",
      "text/plain": [
       "<PIL.JpegImagePlugin.JpegImageFile image mode=RGB size=45x45 at 0x7F4C06E3F890>"
      ]
     },
     "execution_count": 82,
     "metadata": {},
     "output_type": "execute_result"
    }
   ],
   "source": [
    "from PIL import Image\n",
    "Image.open(lrs[25])"
   ]
  },
  {
   "cell_type": "code",
   "execution_count": 83,
   "metadata": {},
   "outputs": [
    {
     "data": {
      "image/png": "[encoded data removed]",
      "text/plain": [
       "<PIL.Image.Image image mode=RGB size=33x33 at 0x7F4C06E3F4D0>"
      ]
     },
     "execution_count": 83,
     "metadata": {},
     "output_type": "execute_result"
    }
   ],
   "source": [
    "Image.fromarray(results[25])"
   ]
  },
  {
   "cell_type": "code",
   "execution_count": 84,
   "metadata": {},
   "outputs": [
    {
     "data": {
      "image/png": "[encoded data removed]",
      "text/plain": [
       "<PIL.JpegImagePlugin.JpegImageFile image mode=RGB size=33x33 at 0x7F4C06E3FD50>"
      ]
     },
     "execution_count": 84,
     "metadata": {},
     "output_type": "execute_result"
    }
   ],
   "source": [
    "Image.open(hrs[25])"
   ]
  },
  {
   "cell_type": "code",
   "execution_count": null,
   "metadata": {
    "collapsed": true
   },
   "outputs": [],
   "source": []
  },
  {
   "cell_type": "code",
   "execution_count": 85,
   "metadata": {},
   "outputs": [
    {
     "data": {
      "image/png": "[encoded data removed]",
      "text/plain": [
       "<PIL.JpegImagePlugin.JpegImageFile image mode=RGB size=45x45 at 0x7F4C06E3F590>"
      ]
     },
     "execution_count": 85,
     "metadata": {},
     "output_type": "execute_result"
    }
   ],
   "source": [
    "from PIL import Image\n",
    "Image.open(lrs[35])"
   ]
  },
  {
   "cell_type": "code",
   "execution_count": 86,
   "metadata": {},
   "outputs": [
    {
     "data": {
      "image/png": "[encoded data removed]",
      "text/plain": [
       "<PIL.Image.Image image mode=RGB size=33x33 at 0x7F4C06C83E90>"
      ]
     },
     "execution_count": 86,
     "metadata": {},
     "output_type": "execute_result"
    }
   ],
   "source": [
    "Image.fromarray(results[35])"
   ]
  },
  {
   "cell_type": "code",
   "execution_count": 87,
   "metadata": {},
   "outputs": [
    {
     "data": {
      "image/png": "[encoded data removed]",
      "text/plain": [
       "<PIL.JpegImagePlugin.JpegImageFile image mode=RGB size=33x33 at 0x7F4C06A21250>"
      ]
     },
     "execution_count": 87,
     "metadata": {},
     "output_type": "execute_result"
    }
   ],
   "source": [
    "Image.open(hrs[35])"
   ]
  },
  {
   "cell_type": "code",
   "execution_count": null,
   "metadata": {
    "collapsed": true
   },
   "outputs": [],
   "source": []
  },
  {
   "cell_type": "code",
   "execution_count": 88,
   "metadata": {},
   "outputs": [
    {
     "data": {
      "image/png": "[encoded data removed]",
      "text/plain": [
       "<PIL.JpegImagePlugin.JpegImageFile image mode=RGB size=45x45 at 0x7F4C06BB7650>"
      ]
     },
     "execution_count": 88,
     "metadata": {},
     "output_type": "execute_result"
    }
   ],
   "source": [
    "from PIL import Image\n",
    "Image.open(lrs[45])"
   ]
  },
  {
   "cell_type": "code",
   "execution_count": 89,
   "metadata": {},
   "outputs": [
    {
     "data": {
      "image/png": "[encoded data removed]",
      "text/plain": [
       "<PIL.Image.Image image mode=RGB size=33x33 at 0x7F4C06C21D10>"
      ]
     },
     "execution_count": 89,
     "metadata": {},
     "output_type": "execute_result"
    }
   ],
   "source": [
    "Image.fromarray(results[45])"
   ]
  },
  {
   "cell_type": "code",
   "execution_count": 90,
   "metadata": {},
   "outputs": [
    {
     "data": {
      "image/png": "[encoded data removed]",
      "text/plain": [
       "<PIL.JpegImagePlugin.JpegImageFile image mode=RGB size=33x33 at 0x7F4C06BFEC90>"
      ]
     },
     "execution_count": 90,
     "metadata": {},
     "output_type": "execute_result"
    }
   ],
   "source": [
    "Image.open(hrs[45])"
   ]
  },
  {
   "cell_type": "code",
   "execution_count": null,
   "metadata": {
    "collapsed": true
   },
   "outputs": [],
   "source": []
  },
  {
   "cell_type": "code",
   "execution_count": 91,
   "metadata": {},
   "outputs": [
    {
     "data": {
      "image/png": "[encoded data removed]",
      "text/plain": [
       "<PIL.JpegImagePlugin.JpegImageFile image mode=RGB size=45x45 at 0x7F4C06FD4E10>"
      ]
     },
     "execution_count": 91,
     "metadata": {},
     "output_type": "execute_result"
    }
   ],
   "source": [
    "from PIL import Image\n",
    "Image.open(lrs[55])"
   ]
  },
  {
   "cell_type": "code",
   "execution_count": 92,
   "metadata": {},
   "outputs": [
    {
     "data": {
      "image/png": "[encoded data removed]",
      "text/plain": [
       "<PIL.Image.Image image mode=RGB size=33x33 at 0x7F4C06BFE790>"
      ]
     },
     "execution_count": 92,
     "metadata": {},
     "output_type": "execute_result"
    }
   ],
   "source": [
    "Image.fromarray(results[55])"
   ]
  },
  {
   "cell_type": "code",
   "execution_count": 93,
   "metadata": {},
   "outputs": [
    {
     "data": {
      "image/png": "[encoded data removed]",
      "text/plain": [
       "<PIL.JpegImagePlugin.JpegImageFile image mode=RGB size=33x33 at 0x7F4C06BFEDD0>"
      ]
     },
     "execution_count": 93,
     "metadata": {},
     "output_type": "execute_result"
    }
   ],
   "source": [
    "Image.open(hrs[55])"
   ]
  },
  {
   "cell_type": "code",
   "execution_count": null,
   "metadata": {
    "collapsed": true
   },
   "outputs": [],
   "source": []
  },
  {
   "cell_type": "code",
   "execution_count": 94,
   "metadata": {},
   "outputs": [
    {
     "data": {
      "image/png": "[encoded data removed]",
      "text/plain": [
       "<PIL.JpegImagePlugin.JpegImageFile image mode=RGB size=45x45 at 0x7F4C06BFEE50>"
      ]
     },
     "execution_count": 94,
     "metadata": {},
     "output_type": "execute_result"
    }
   ],
   "source": [
    "from PIL import Image\n",
    "Image.open(lrs[65])"
   ]
  },
  {
   "cell_type": "code",
   "execution_count": 95,
   "metadata": {},
   "outputs": [
    {
     "data": {
      "image/png": "[encoded data removed]",
      "text/plain": [
       "<PIL.Image.Image image mode=RGB size=33x33 at 0x7F4C06BFE590>"
      ]
     },
     "execution_count": 95,
     "metadata": {},
     "output_type": "execute_result"
    }
   ],
   "source": [
    "Image.fromarray(results[65])"
   ]
  },
  {
   "cell_type": "code",
   "execution_count": 96,
   "metadata": {},
   "outputs": [
    {
     "data": {
      "image/png": "[encoded data removed]",
      "text/plain": [
       "<PIL.JpegImagePlugin.JpegImageFile image mode=RGB size=33x33 at 0x7F4C06BFEF90>"
      ]
     },
     "execution_count": 96,
     "metadata": {},
     "output_type": "execute_result"
    }
   ],
   "source": [
    "Image.open(hrs[65])"
   ]
  },
  {
   "cell_type": "code",
   "execution_count": null,
   "metadata": {
    "collapsed": true
   },
   "outputs": [],
   "source": []
  },
  {
   "cell_type": "code",
   "execution_count": 97,
   "metadata": {},
   "outputs": [
    {
     "data": {
      "image/png": "[encoded data removed]",
      "text/plain": [
       "<PIL.JpegImagePlugin.JpegImageFile image mode=RGB size=45x45 at 0x7F4C06FD4590>"
      ]
     },
     "execution_count": 97,
     "metadata": {},
     "output_type": "execute_result"
    }
   ],
   "source": [
    "from PIL import Image\n",
    "Image.open(lrs[75])"
   ]
  },
  {
   "cell_type": "code",
   "execution_count": 98,
   "metadata": {},
   "outputs": [
    {
     "data": {
      "image/png": "[encoded data removed]",
      "text/plain": [
       "<PIL.Image.Image image mode=RGB size=33x33 at 0x7F4C06BFE4D0>"
      ]
     },
     "execution_count": 98,
     "metadata": {},
     "output_type": "execute_result"
    }
   ],
   "source": [
    "Image.fromarray(results[75])"
   ]
  },
  {
   "cell_type": "code",
   "execution_count": 99,
   "metadata": {},
   "outputs": [
    {
     "data": {
      "image/png": "[encoded data removed]",
      "text/plain": [
       "<PIL.JpegImagePlugin.JpegImageFile image mode=RGB size=33x33 at 0x7F4C075D9610>"
      ]
     },
     "execution_count": 99,
     "metadata": {},
     "output_type": "execute_result"
    }
   ],
   "source": [
    "Image.open(hrs[75])"
   ]
  },
  {
   "cell_type": "code",
   "execution_count": null,
   "metadata": {
    "collapsed": true
   },
   "outputs": [],
   "source": []
  },
  {
   "cell_type": "code",
   "execution_count": 102,
   "metadata": {},
   "outputs": [
    {
     "data": {
      "image/png": "[encoded data removed]",
      "text/plain": [
       "<PIL.JpegImagePlugin.JpegImageFile image mode=RGB size=45x45 at 0x7F4C06A21B50>"
      ]
     },
     "execution_count": 102,
     "metadata": {},
     "output_type": "execute_result"
    }
   ],
   "source": [
    "from PIL import Image\n",
    "Image.open(lrs[95])"
   ]
  },
  {
   "cell_type": "code",
   "execution_count": 103,
   "metadata": {},
   "outputs": [
    {
     "data": {
      "image/png": "[encoded data removed]",
      "text/plain": [
       "<PIL.Image.Image image mode=RGB size=33x33 at 0x7F4C06E3F090>"
      ]
     },
     "execution_count": 103,
     "metadata": {},
     "output_type": "execute_result"
    }
   ],
   "source": [
    "Image.fromarray(results[95])"
   ]
  },
  {
   "cell_type": "code",
   "execution_count": 104,
   "metadata": {},
   "outputs": [
    {
     "data": {
      "image/png": "[encoded data removed]",
      "text/plain": [
       "<PIL.JpegImagePlugin.JpegImageFile image mode=RGB size=33x33 at 0x7F4C06F5CB50>"
      ]
     },
     "execution_count": 104,
     "metadata": {},
     "output_type": "execute_result"
    }
   ],
   "source": [
    "Image.open(hrs[95])"
   ]
  },
  {
   "cell_type": "code",
   "execution_count": null,
   "metadata": {
    "collapsed": true
   },
   "outputs": [],
   "source": []
  },
  {
   "cell_type": "code",
   "execution_count": 105,
   "metadata": {},
   "outputs": [
    {
     "data": {
      "image/png": "[encoded data removed]",
      "text/plain": [
       "<PIL.JpegImagePlugin.JpegImageFile image mode=RGB size=45x45 at 0x7F4C06A21FD0>"
      ]
     },
     "execution_count": 105,
     "metadata": {},
     "output_type": "execute_result"
    }
   ],
   "source": [
    "from PIL import Image\n",
    "Image.open(lrs[105])"
   ]
  },
  {
   "cell_type": "code",
   "execution_count": 106,
   "metadata": {},
   "outputs": [
    {
     "data": {
      "image/png": "[encoded data removed]",
      "text/plain": [
       "<PIL.Image.Image image mode=RGB size=33x33 at 0x7F4C06F5C610>"
      ]
     },
     "execution_count": 106,
     "metadata": {},
     "output_type": "execute_result"
    }
   ],
   "source": [
    "Image.fromarray(results[105])"
   ]
  },
  {
   "cell_type": "code",
   "execution_count": 107,
   "metadata": {},
   "outputs": [
    {
     "data": {
      "image/png": "[encoded data removed]",
      "text/plain": [
       "<PIL.JpegImagePlugin.JpegImageFile image mode=RGB size=33x33 at 0x7F4C06CA2950>"
      ]
     },
     "execution_count": 107,
     "metadata": {},
     "output_type": "execute_result"
    }
   ],
   "source": [
    "Image.open(hrs[105])"
   ]
  },
  {
   "cell_type": "code",
   "execution_count": null,
   "metadata": {
    "collapsed": true
   },
   "outputs": [],
   "source": []
  },
  {
   "cell_type": "code",
   "execution_count": 105,
   "metadata": {},
   "outputs": [
    {
     "data": {
      "image/png": "[encoded data removed]",
      "text/plain": [
       "<PIL.JpegImagePlugin.JpegImageFile image mode=RGB size=45x45 at 0x7F4C06A21FD0>"
      ]
     },
     "execution_count": 105,
     "metadata": {},
     "output_type": "execute_result"
    }
   ],
   "source": [
    "from PIL import Image\n",
    "Image.open(lrs[115])"
   ]
  },
  {
   "cell_type": "code",
   "execution_count": 106,
   "metadata": {},
   "outputs": [
    {
     "data": {
      "image/png": "[encoded data removed]",
      "text/plain": [
       "<PIL.Image.Image image mode=RGB size=33x33 at 0x7F4C06F5C610>"
      ]
     },
     "execution_count": 106,
     "metadata": {},
     "output_type": "execute_result"
    }
   ],
   "source": [
    "Image.fromarray(results[115])"
   ]
  },
  {
   "cell_type": "code",
   "execution_count": 107,
   "metadata": {},
   "outputs": [
    {
     "data": {
      "image/png": "[encoded data removed]",
      "text/plain": [
       "<PIL.JpegImagePlugin.JpegImageFile image mode=RGB size=33x33 at 0x7F4C06CA2950>"
      ]
     },
     "execution_count": 107,
     "metadata": {},
     "output_type": "execute_result"
    }
   ],
   "source": [
    "Image.open(hrs[115])"
   ]
  },
  {
   "cell_type": "code",
   "execution_count": null,
   "metadata": {
    "collapsed": true
   },
   "outputs": [],
   "source": []
  },
  {
   "cell_type": "code",
   "execution_count": 108,
   "metadata": {},
   "outputs": [
    {
     "data": {
      "image/png": "[encoded data removed]",
      "text/plain": [
       "<PIL.JpegImagePlugin.JpegImageFile image mode=RGB size=45x45 at 0x7F4C06F5CF90>"
      ]
     },
     "execution_count": 108,
     "metadata": {},
     "output_type": "execute_result"
    }
   ],
   "source": [
    "from PIL import Image\n",
    "Image.open(lrs[125])"
   ]
  },
  {
   "cell_type": "code",
   "execution_count": 109,
   "metadata": {},
   "outputs": [
    {
     "data": {
      "image/png": "[encoded data removed]",
      "text/plain": [
       "<PIL.Image.Image image mode=RGB size=33x33 at 0x7F4C06F5C590>"
      ]
     },
     "execution_count": 109,
     "metadata": {},
     "output_type": "execute_result"
    }
   ],
   "source": [
    "Image.fromarray(results[125])"
   ]
  },
  {
   "cell_type": "code",
   "execution_count": 110,
   "metadata": {},
   "outputs": [
    {
     "data": {
      "image/png": "[encoded data removed]",
      "text/plain": [
       "<PIL.JpegImagePlugin.JpegImageFile image mode=RGB size=33x33 at 0x7F4C06F5C510>"
      ]
     },
     "execution_count": 110,
     "metadata": {},
     "output_type": "execute_result"
    }
   ],
   "source": [
    "Image.open(hrs[125])"
   ]
  },
  {
   "cell_type": "code",
   "execution_count": null,
   "metadata": {
    "collapsed": true
   },
   "outputs": [],
   "source": []
  },
  {
   "cell_type": "code",
   "execution_count": 13,
   "metadata": {},
   "outputs": [
    {
     "data": {
      "text/plain": [
       "array([ 16.47596265,  12.22095345,  14.65992203,  14.78426752,\n",
       "        26.92513986,  13.38272521,  17.81534125,  15.83787594,\n",
       "        12.94398467,  11.3539593 ,  14.25040188,  11.70112424,\n",
       "        15.54216317,  16.42360779,  16.78242721,  12.58257558,\n",
       "        15.96138702,  16.16106757,  14.09972711,  15.16861028,\n",
       "        20.5794808 ,  14.43591053,  16.68908914,  13.97554432,\n",
       "        13.65731908,  17.26507562,  15.42373241,  15.76454946,\n",
       "        17.3039379 ,  11.49212913,  16.87968643,  15.61847146,\n",
       "               -inf,  27.45772349,  23.00067474,  14.61382099,\n",
       "        13.60417744,  17.99075171,         -inf,  11.3565477 ,\n",
       "               -inf,   9.1702314 ,  16.22372833,  12.45965813,\n",
       "        17.6327807 ,  14.76332402,  13.87325966,  13.78425967,\n",
       "        11.48283963,  16.11820801,         -inf,  14.20989368,\n",
       "        15.01054294,  18.50489507,  12.60262547,  10.37790142,\n",
       "               -inf,  17.4639738 ,  15.64175825,  18.12594815,\n",
       "               -inf,  20.31815123,  10.61573738,   9.16213373,\n",
       "        10.87904357,  10.47753144,  11.59813393,         -inf,\n",
       "        11.94963176,   9.29799231,   7.55789509,   8.85277801,\n",
       "         7.77983722,  11.56748267,         -inf,  10.70437738,\n",
       "               -inf,   8.20195636,  10.63770617,   9.86774702,\n",
       "        11.18098593,         -inf,         -inf,   9.55870929,\n",
       "               -inf,         -inf,  11.89697493,   7.68617488,\n",
       "        10.98641164,   9.04422169,  14.96278471,  13.04977415,\n",
       "        21.94365237,  12.33169973,  14.86311554,  17.41650766,\n",
       "        14.13407527,  22.33542634,  12.05962443,  18.52903595,\n",
       "        13.28540509,  21.914427  ,  20.94934694,  19.37549128,\n",
       "        17.48592126,  12.80021082,  12.11273192,  18.26910045,\n",
       "        14.7625167 ,  13.97627111,  17.36510653,  19.44540964,\n",
       "        10.6830265 ,  24.1084258 ,  18.28452823,  12.72548184,\n",
       "        13.33642091,  13.81159666,  16.15850185,  13.43931368,\n",
       "        18.02681454,  16.99117267,  16.5771756 ,  16.54975887,\n",
       "        23.33841244,  21.72391302,  28.21490395,  16.10011271,\n",
       "        16.13340919,  17.0784481 ,  29.91572312,  15.566634  ,\n",
       "        16.77146379,  15.46418395,  15.44840866,  16.11971805,\n",
       "        15.3770587 ,  31.39452765,  14.72371916,  35.7185367 ,\n",
       "        17.54856486,  31.78836732,  25.38135409,  18.24927407,\n",
       "        17.6494673 ,  31.18584632,  19.88098681,  13.53373433,\n",
       "        33.00944228,  14.97761349])"
      ]
     },
     "execution_count": 13,
     "metadata": {},
     "output_type": "execute_result"
    }
   ],
   "source": [
    "np.array(psnrs)"
   ]
  },
  {
   "cell_type": "code",
   "execution_count": 15,
   "metadata": {},
   "outputs": [
    {
     "data": {
      "text/plain": [
       "[16.475962652313193,\n",
       " 12.220953448549574,\n",
       " 14.659922029003523,\n",
       " 14.784267520317387,\n",
       " 26.925139862933719,\n",
       " 13.38272521021743,\n",
       " 17.815341250883286,\n",
       " 15.837875944297139,\n",
       " 12.943984671601282,\n",
       " 11.353959300218657,\n",
       " 14.25040187897798,\n",
       " 11.701124241878071,\n",
       " 15.542163171817309,\n",
       " 16.423607794093865,\n",
       " 16.78242720695993,\n",
       " 12.582575581676831,\n",
       " 15.961387017072372,\n",
       " 16.161067572408232,\n",
       " 14.099727113345166,\n",
       " 15.168610278459685,\n",
       " 20.579480801808792,\n",
       " 14.435910528591716,\n",
       " 16.689089142285582,\n",
       " 13.975544321083637,\n",
       " 13.657319081086934,\n",
       " 17.265075621037312,\n",
       " 15.423732413664212,\n",
       " 15.764549460190358,\n",
       " 17.303937898507883,\n",
       " 11.492129130936586,\n",
       " 16.879686431384698,\n",
       " 15.618471458227653,\n",
       " 27.457723492726824,\n",
       " 23.000674737099608,\n",
       " 14.613820989706195,\n",
       " 13.604177439290726,\n",
       " 17.990751711019783,\n",
       " 11.35654769991713,\n",
       " 9.1702313973374334,\n",
       " 16.223728330559993,\n",
       " 12.459658134828151,\n",
       " 17.632780695367678,\n",
       " 14.763324019274638,\n",
       " 13.873259656407189,\n",
       " 13.784259667996604,\n",
       " 11.482839632151913,\n",
       " 16.118208008450466,\n",
       " 14.209893676302791,\n",
       " 15.010542940747838,\n",
       " 18.504895071991371,\n",
       " 12.602625471358502,\n",
       " 10.377901415449443,\n",
       " 17.463973799253708,\n",
       " 15.641758245132371,\n",
       " 18.125948145755554,\n",
       " 20.318151226720225,\n",
       " 10.615737381954975,\n",
       " 9.1621337295312895,\n",
       " 10.879043573586408,\n",
       " 10.477531443761606,\n",
       " 11.59813393239955,\n",
       " 11.949631761462571,\n",
       " 9.2979923050380044,\n",
       " 7.557895086478446,\n",
       " 8.8527780122915054,\n",
       " 7.7798372180841371,\n",
       " 11.567482672944504,\n",
       " 10.704377380416577,\n",
       " 8.2019563577022705,\n",
       " 10.637706165194325,\n",
       " 9.8677470174965585,\n",
       " 11.180985928060307,\n",
       " 9.5587092865095418,\n",
       " 11.896974926203363,\n",
       " 7.6861748808574504,\n",
       " 10.986411642985821,\n",
       " 9.0442216879877684,\n",
       " 14.962784714848528,\n",
       " 13.049774147243149,\n",
       " 21.943652368524305,\n",
       " 12.331699729241432,\n",
       " 14.86311553997313,\n",
       " 17.416507655554966,\n",
       " 14.134075268263835,\n",
       " 22.335426344012383,\n",
       " 12.059624429786645,\n",
       " 18.529035950377025,\n",
       " 13.285405092878495,\n",
       " 21.91442699835353,\n",
       " 20.949346941918265,\n",
       " 19.375491281844482,\n",
       " 17.485921261980018,\n",
       " 12.800210819725564,\n",
       " 12.112731919689146,\n",
       " 18.269100452831669,\n",
       " 14.76251669968698,\n",
       " 13.976271109793704,\n",
       " 17.365106531468939,\n",
       " 19.44540963808112,\n",
       " 10.683026499533796,\n",
       " 24.108425796221539,\n",
       " 18.284528231306513,\n",
       " 12.725481837181277,\n",
       " 13.336420911601159,\n",
       " 13.811596662407911,\n",
       " 16.158501853434633,\n",
       " 13.439313682978923,\n",
       " 18.02681453547644,\n",
       " 16.991172666949595,\n",
       " 16.577175601942962,\n",
       " 16.549758869489391,\n",
       " 23.338412438088987,\n",
       " 21.723913024017293,\n",
       " 28.21490395495843,\n",
       " 16.100112710648084,\n",
       " 16.133409194257549,\n",
       " 17.078448101563215,\n",
       " 29.915723118785071,\n",
       " 15.566633997358943,\n",
       " 16.771463792234037,\n",
       " 15.46418394976326,\n",
       " 15.448408664431261,\n",
       " 16.119718048515324,\n",
       " 15.377058701779395,\n",
       " 31.394527646893962,\n",
       " 14.723719158419673,\n",
       " 35.718536700015029,\n",
       " 17.54856485707797,\n",
       " 31.788367321327154,\n",
       " 25.381354094289318,\n",
       " 18.249274066606073,\n",
       " 17.649467298383051,\n",
       " 31.185846320504904,\n",
       " 19.880986813877865,\n",
       " 13.533734326053199,\n",
       " 33.009442277654578,\n",
       " 14.977613490337355]"
      ]
     },
     "execution_count": 15,
     "metadata": {},
     "output_type": "execute_result"
    }
   ],
   "source": [
    "cleared_psnrs = [elem for elem in psnrs if elem > 0]        \n",
    "cleared_psnrs"
   ]
  },
  {
   "cell_type": "code",
   "execution_count": 17,
   "metadata": {},
   "outputs": [
    {
     "name": "stdout",
     "output_type": "stream",
     "text": [
      "15.9547661616\n",
      "5.26950084403\n"
     ]
    }
   ],
   "source": [
    "print(np.mean(cleared_psnrs))\n",
    "print(np.sqrt(np.var(cleared_psnrs)))"
   ]
  },
  {
   "cell_type": "code",
   "execution_count": 117,
   "metadata": {},
   "outputs": [
    {
     "data": {
      "image/png": "[encoded data removed]",
      "text/plain": [
       "<matplotlib.figure.Figure at 0x7f4c068488d0>"
      ]
     },
     "metadata": {},
     "output_type": "display_data"
    }
   ],
   "source": [
    "plt.figure(num=None, figsize=(18, 6), dpi=80, facecolor='w', edgecolor='k')\n",
    "plt.subplot()\n",
    "\n",
    "plt.grid(True)\n",
    "plt.hist(cleared_psnrs, bins=25, color = 'g', normed=1, alpha=0.75)\n",
    "plt.ylabel(u'Доля')\n",
    "plt.xlabel(u'PSNR')\n",
    "plt.title(u'Распределения PSNR для получившейся сетки')\n",
    "\n",
    "\n",
    "plt.show()"
   ]
  },
  {
   "cell_type": "code",
   "execution_count": 54,
   "metadata": {},
   "outputs": [
    {
     "name": "stderr",
     "output_type": "stream",
     "text": [
      "/usr/local/lib/python2.7/dist-packages/ipykernel_launcher.py:16: RuntimeWarning: invalid value encountered in divide\n",
      "  app.launch_new_instance()\n"
     ]
    }
   ],
   "source": [
    "from PIL import Image\n",
    "from PIL import ImageFilter\n",
    "\n",
    "bicubic_psnrs = []\n",
    "for elem in hrs:\n",
    "    sim = Image.open(elem)\n",
    "    x = np.array(sim)\n",
    "    x = x[:,:,::-1]\n",
    "    x = x.transpose((2,0,1))\n",
    "    sim = sim.filter(ImageFilter.GaussianBlur(radius=1))\n",
    "    sim = sim.resize((SUB // ScaleFactor, SUB // ScaleFactor), Image.BICUBIC)\n",
    "    sim = sim.resize((SUB,SUB), Image.BICUBIC)\n",
    "    sim = np.array(sim)\n",
    "    y = sim[:,:,::-1]\n",
    "    y = y.transpose((2,0,1))\n",
    "    psnr = 20*np.log10(np.max(y)/np.sqrt((1.0/SUB**2)*(np.sum((y[0]-x[0])**2)+np.sum((y[1]-x[1])**2)+np.sum((y[2]-x[2])**2))))\n",
    "    bicubic_psnrs.append(psnr)"
   ]
  },
  {
   "cell_type": "code",
   "execution_count": 55,
   "metadata": {},
   "outputs": [
    {
     "data": {
      "text/plain": [
       "(3, 33, 33)"
      ]
     },
     "execution_count": 55,
     "metadata": {},
     "output_type": "execute_result"
    }
   ],
   "source": [
    "x.shape"
   ]
  },
  {
   "cell_type": "code",
   "execution_count": 56,
   "metadata": {},
   "outputs": [
    {
     "data": {
      "text/plain": [
       "[30.257881476644364,\n",
       " 25.973066029547045,\n",
       " 25.630483391871174,\n",
       " 29.29738285683214,\n",
       " 27.806932048001045,\n",
       " 30.469850086309137,\n",
       " 25.066838018835359,\n",
       " 27.954951860667975,\n",
       " 26.935782419438688,\n",
       " 27.432935191082613,\n",
       " 24.814817445081978,\n",
       " 24.507659014745805,\n",
       " 27.563846758716192,\n",
       " 30.652161531307382,\n",
       " 27.319933963247735,\n",
       " 24.175803604849072,\n",
       " 27.947020386845356,\n",
       " 26.172040283767807,\n",
       " 26.11885083729852,\n",
       " 24.230616867723388,\n",
       " 26.965837649156565,\n",
       " 28.855610621733927,\n",
       " 29.358374324476753,\n",
       " 25.507464857833163,\n",
       " 29.784769360861318,\n",
       " 26.368503881237793,\n",
       " 29.46284848093341,\n",
       " 25.667074808453268,\n",
       " 26.858370429917201,\n",
       " 24.636748739699378,\n",
       " 27.834043170737139,\n",
       " 25.520604394417269,\n",
       " nan,\n",
       " 39.998268755520314,\n",
       " 31.118948594266257,\n",
       " 28.480548379423993,\n",
       " 29.313863709597957,\n",
       " 29.918466954478482,\n",
       " nan,\n",
       " 26.991597532862865,\n",
       " nan,\n",
       " 26.599052953873663,\n",
       " 28.427632093395424,\n",
       " 30.220268611877621,\n",
       " 28.414281717814763,\n",
       " 26.609614191441111,\n",
       " 27.573466799512119,\n",
       " 27.03969177293903,\n",
       " 23.745826540560842,\n",
       " 30.671645248399663,\n",
       " nan,\n",
       " 27.721175289179083,\n",
       " 28.473454076926782,\n",
       " 25.539540032603444,\n",
       " 32.045631678008775,\n",
       " 26.849456389227619,\n",
       " nan,\n",
       " 31.779994577139004,\n",
       " 30.370278797557752,\n",
       " 25.207014221477436,\n",
       " nan,\n",
       " 32.418840961629314,\n",
       " 26.279017216980268,\n",
       " 24.767581764688217,\n",
       " 24.584854484467655,\n",
       " 24.793509729756451,\n",
       " 26.266096364946034,\n",
       " nan,\n",
       " 24.852397506087488,\n",
       " 25.132986827961744,\n",
       " 24.194433584900963,\n",
       " 24.483161567004217,\n",
       " 23.768970668488386,\n",
       " 25.514137832095969,\n",
       " nan,\n",
       " 24.637034110882862,\n",
       " nan,\n",
       " 24.16581310192705,\n",
       " 24.350444998253021,\n",
       " 24.446877962177183,\n",
       " 26.133143535034918,\n",
       " nan,\n",
       " nan,\n",
       " 24.991428361129365,\n",
       " nan,\n",
       " nan,\n",
       " 24.662354217139306,\n",
       " 24.094003828888631,\n",
       " 26.455437619370599,\n",
       " 24.921774071211431,\n",
       " 20.798507567172084,\n",
       " 23.047768730535161,\n",
       " 28.567616500819575,\n",
       " 27.806205604915615,\n",
       " 19.578724025088164,\n",
       " 23.213097572973417,\n",
       " 21.963642826782959,\n",
       " 28.022171762677313,\n",
       " 27.637838919092591,\n",
       " 26.861330308218001,\n",
       " 18.149287441527175,\n",
       " 28.251872320522018,\n",
       " 26.563490918857909,\n",
       " 26.583812760462557,\n",
       " 21.887955491876085,\n",
       " 26.850313063363487,\n",
       " 27.611303896554872,\n",
       " 26.133399123167528,\n",
       " 22.041760086124668,\n",
       " 27.250940464126032,\n",
       " 23.234604210331256,\n",
       " 26.07821450969157,\n",
       " 23.803068980741561,\n",
       " 27.799373373038826,\n",
       " 27.437006230296113,\n",
       " 25.611631165388822,\n",
       " 24.171326998149677,\n",
       " 27.619439228008169,\n",
       " 20.56670950977027,\n",
       " 27.508964103029601,\n",
       " 24.546559952601964,\n",
       " 31.637213439306255,\n",
       " 26.836492175011394,\n",
       " 25.713287546938034,\n",
       " 32.714575718494778,\n",
       " 27.924123193535738,\n",
       " 36.855803521556773,\n",
       " 23.153543702329582,\n",
       " 29.215121879355248,\n",
       " 29.425571541041464,\n",
       " 40.274825618495449,\n",
       " 31.065223652721659,\n",
       " 31.80500322927535,\n",
       " 27.615282841368277,\n",
       " 27.415044257955682,\n",
       " 28.049866320001328,\n",
       " 24.123252326577699,\n",
       " 40.965505325845406,\n",
       " 28.744467074426268,\n",
       " 48.273495806309406,\n",
       " 30.044645732975319,\n",
       " 39.630338778420338,\n",
       " 38.535416547036888,\n",
       " 33.105157808584259,\n",
       " 28.64538626602198,\n",
       " 41.902870825679805,\n",
       " 25.374280393356507,\n",
       " 22.047734077965231,\n",
       " 40.829972615653475,\n",
       " 29.283905594721126]"
      ]
     },
     "execution_count": 56,
     "metadata": {},
     "output_type": "execute_result"
    }
   ],
   "source": [
    "bicubic_psnrs"
   ]
  },
  {
   "cell_type": "code",
   "execution_count": 57,
   "metadata": {},
   "outputs": [
    {
     "data": {
      "text/plain": [
       "[30.257881476644364,\n",
       " 25.973066029547045,\n",
       " 25.630483391871174,\n",
       " 29.29738285683214,\n",
       " 27.806932048001045,\n",
       " 30.469850086309137,\n",
       " 25.066838018835359,\n",
       " 27.954951860667975,\n",
       " 26.935782419438688,\n",
       " 27.432935191082613,\n",
       " 24.814817445081978,\n",
       " 24.507659014745805,\n",
       " 27.563846758716192,\n",
       " 30.652161531307382,\n",
       " 27.319933963247735,\n",
       " 24.175803604849072,\n",
       " 27.947020386845356,\n",
       " 26.172040283767807,\n",
       " 26.11885083729852,\n",
       " 24.230616867723388,\n",
       " 26.965837649156565,\n",
       " 28.855610621733927,\n",
       " 29.358374324476753,\n",
       " 25.507464857833163,\n",
       " 29.784769360861318,\n",
       " 26.368503881237793,\n",
       " 29.46284848093341,\n",
       " 25.667074808453268,\n",
       " 26.858370429917201,\n",
       " 24.636748739699378,\n",
       " 27.834043170737139,\n",
       " 25.520604394417269,\n",
       " 39.998268755520314,\n",
       " 31.118948594266257,\n",
       " 28.480548379423993,\n",
       " 29.313863709597957,\n",
       " 29.918466954478482,\n",
       " 26.991597532862865,\n",
       " 26.599052953873663,\n",
       " 28.427632093395424,\n",
       " 30.220268611877621,\n",
       " 28.414281717814763,\n",
       " 26.609614191441111,\n",
       " 27.573466799512119,\n",
       " 27.03969177293903,\n",
       " 23.745826540560842,\n",
       " 30.671645248399663,\n",
       " 27.721175289179083,\n",
       " 28.473454076926782,\n",
       " 25.539540032603444,\n",
       " 32.045631678008775,\n",
       " 26.849456389227619,\n",
       " 31.779994577139004,\n",
       " 30.370278797557752,\n",
       " 25.207014221477436,\n",
       " 32.418840961629314,\n",
       " 26.279017216980268,\n",
       " 24.767581764688217,\n",
       " 24.584854484467655,\n",
       " 24.793509729756451,\n",
       " 26.266096364946034,\n",
       " 24.852397506087488,\n",
       " 25.132986827961744,\n",
       " 24.194433584900963,\n",
       " 24.483161567004217,\n",
       " 23.768970668488386,\n",
       " 25.514137832095969,\n",
       " 24.637034110882862,\n",
       " 24.16581310192705,\n",
       " 24.350444998253021,\n",
       " 24.446877962177183,\n",
       " 26.133143535034918,\n",
       " 24.991428361129365,\n",
       " 24.662354217139306,\n",
       " 24.094003828888631,\n",
       " 26.455437619370599,\n",
       " 24.921774071211431,\n",
       " 20.798507567172084,\n",
       " 23.047768730535161,\n",
       " 28.567616500819575,\n",
       " 27.806205604915615,\n",
       " 19.578724025088164,\n",
       " 23.213097572973417,\n",
       " 21.963642826782959,\n",
       " 28.022171762677313,\n",
       " 27.637838919092591,\n",
       " 26.861330308218001,\n",
       " 18.149287441527175,\n",
       " 28.251872320522018,\n",
       " 26.563490918857909,\n",
       " 26.583812760462557,\n",
       " 21.887955491876085,\n",
       " 26.850313063363487,\n",
       " 27.611303896554872,\n",
       " 26.133399123167528,\n",
       " 22.041760086124668,\n",
       " 27.250940464126032,\n",
       " 23.234604210331256,\n",
       " 26.07821450969157,\n",
       " 23.803068980741561,\n",
       " 27.799373373038826,\n",
       " 27.437006230296113,\n",
       " 25.611631165388822,\n",
       " 24.171326998149677,\n",
       " 27.619439228008169,\n",
       " 20.56670950977027,\n",
       " 27.508964103029601,\n",
       " 24.546559952601964,\n",
       " 31.637213439306255,\n",
       " 26.836492175011394,\n",
       " 25.713287546938034,\n",
       " 32.714575718494778,\n",
       " 27.924123193535738,\n",
       " 36.855803521556773,\n",
       " 23.153543702329582,\n",
       " 29.215121879355248,\n",
       " 29.425571541041464,\n",
       " 40.274825618495449,\n",
       " 31.065223652721659,\n",
       " 31.80500322927535,\n",
       " 27.615282841368277,\n",
       " 27.415044257955682,\n",
       " 28.049866320001328,\n",
       " 24.123252326577699,\n",
       " 40.965505325845406,\n",
       " 28.744467074426268,\n",
       " 48.273495806309406,\n",
       " 30.044645732975319,\n",
       " 39.630338778420338,\n",
       " 38.535416547036888,\n",
       " 33.105157808584259,\n",
       " 28.64538626602198,\n",
       " 41.902870825679805,\n",
       " 25.374280393356507,\n",
       " 22.047734077965231,\n",
       " 40.829972615653475,\n",
       " 29.283905594721126]"
      ]
     },
     "execution_count": 57,
     "metadata": {},
     "output_type": "execute_result"
    }
   ],
   "source": [
    "bicubic_cleared_psnrs = [elem for elem in bicubic_psnrs if elem > 0]        \n",
    "bicubic_cleared_psnrs"
   ]
  },
  {
   "cell_type": "code",
   "execution_count": 59,
   "metadata": {},
   "outputs": [
    {
     "name": "stdout",
     "output_type": "stream",
     "text": [
      "27.6246603612\n",
      "4.45154171761\n"
     ]
    }
   ],
   "source": [
    "print(np.mean(bicubic_cleared_psnrs))\n",
    "print(np.sqrt(np.var(bicubic_cleared_psnrs)))"
   ]
  },
  {
   "cell_type": "code",
   "execution_count": 60,
   "metadata": {},
   "outputs": [
    {
     "data": {
      "image/png": "[encoded data removed]",
      "text/plain": [
       "<matplotlib.figure.Figure at 0x7f4c06f4f6d0>"
      ]
     },
     "metadata": {},
     "output_type": "display_data"
    }
   ],
   "source": [
    "plt.figure(num=None, figsize=(18, 6), dpi=80, facecolor='w', edgecolor='k')\n",
    "plt.subplot()\n",
    "\n",
    "plt.grid(True)\n",
    "plt.hist(bicubic_cleared_psnrs, bins=25, color = 'g', normed=1, alpha=0.75)\n",
    "plt.ylabel(u'Доля')\n",
    "plt.xlabel(u'PSNR')\n",
    "plt.title(u'Распределения PSNR для бикубической интерполяции')\n",
    "\n",
    "\n",
    "plt.show()"
   ]
  },
  {
   "cell_type": "code",
   "execution_count": null,
   "metadata": {
    "collapsed": true
   },
   "outputs": [],
   "source": []
  },
  {
   "cell_type": "code",
   "execution_count": 116,
   "metadata": {},
   "outputs": [
    {
     "data": {
      "image/png": "[encoded data removed]",
      "text/plain": [
       "<PIL.Image.Image image mode=RGB size=33x33 at 0x7F4C06848850>"
      ]
     },
     "execution_count": 116,
     "metadata": {},
     "output_type": "execute_result"
    }
   ],
   "source": [
    "x = np.array(Image.open('datasets/berkley/BSDS300/images/test/original/lr/0-21-F2.jpg'))\n",
    "img = x[:,:,::-1]\n",
    "img = img.transpose((2,0,1))\n",
    "img = img[None,:]\n",
    "out = net.forward_all(data=img)\n",
    "res = out['result'][0]\n",
    "res = res.transpose((1,2,0))[:,:,::-1]\n",
    "Image.fromarray(res.astype('uint8'))"
   ]
  },
  {
   "cell_type": "code",
   "execution_count": 115,
   "metadata": {},
   "outputs": [
    {
     "data": {
      "image/png": "[encoded data removed]",
      "text/plain": [
       "<PIL.JpegImagePlugin.JpegImageFile image mode=RGB size=33x33 at 0x7F4C06DE7A90>"
      ]
     },
     "execution_count": 115,
     "metadata": {},
     "output_type": "execute_result"
    }
   ],
   "source": [
    "Image.open('datasets/berkley/BSDS300/images/test/original/hr/0-21.jpg')"
   ]
  },
  {
   "cell_type": "code",
   "execution_count": null,
   "metadata": {
    "collapsed": true
   },
   "outputs": [],
   "source": []
  }
 ],
 "metadata": {
  "anaconda-cloud": {},
  "kernelspec": {
   "display_name": "Python 2",
   "language": "python",
   "name": "python2"
  },
  "language_info": {
   "codemirror_mode": {
    "name": "ipython",
    "version": 2
   },
   "file_extension": ".py",
   "mimetype": "text/x-python",
   "name": "python",
   "nbconvert_exporter": "python",
   "pygments_lexer": "ipython2",
   "version": "2.7.12"
  }
 },
 "nbformat": 4,
 "nbformat_minor": 1
}
