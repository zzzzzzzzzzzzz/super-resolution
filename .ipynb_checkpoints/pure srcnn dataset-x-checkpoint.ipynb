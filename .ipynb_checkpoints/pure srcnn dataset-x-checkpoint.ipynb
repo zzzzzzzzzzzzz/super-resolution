{
 "cells": [
  {
   "cell_type": "markdown",
   "metadata": {},
   "source": [
    "# Super resolution\n",
    "This notebook tries to repeat the result of [this article](https://arxiv.org/pdf/1511.04587.pdf \"Accurate Image Super-Resolution Using Very Deep Convolutional Networks\")"
   ]
  },
  {
   "cell_type": "markdown",
   "metadata": {},
   "source": [
    "## Preparation"
   ]
  },
  {
   "cell_type": "code",
   "execution_count": 1,
   "metadata": {
    "collapsed": true
   },
   "outputs": [],
   "source": [
    "import numpy as np\n",
    "import pandas as pd\n",
    "import matplotlib \n",
    "import caffe\n",
    "from matplotlib import pyplot as plt\n",
    "%matplotlib inline"
   ]
  },
  {
   "cell_type": "code",
   "execution_count": 2,
   "metadata": {
    "collapsed": true
   },
   "outputs": [],
   "source": [
    "delta = abs(-9-1-5+3)"
   ]
  },
  {
   "cell_type": "code",
   "execution_count": 3,
   "metadata": {
    "collapsed": true
   },
   "outputs": [],
   "source": [
    "def crop_center(imobj, new_width, new_height):\n",
    "    width, height =imobj.size\n",
    "    left = (width - N)/2\n",
    "    top = (height - N)/2\n",
    "    right = (width + N)/2\n",
    "    bottom = (height + N)/2\n",
    "\n",
    "    return imobj.crop((left, top, right, bottom))\n",
    "\n",
    "def generate_crops(number, width, height, crop_width, crop_height):\n",
    "    crops = []\n",
    "    for i in range(number):\n",
    "        x = randint(0,width-crop_width)\n",
    "        y = randint(0,height-crop_height)\n",
    "        crops.append((x, y, x + crop_width, y + crop_height))\n",
    "    return crops"
   ]
  },
  {
   "cell_type": "markdown",
   "metadata": {},
   "source": [
    "### Prepare dataset"
   ]
  },
  {
   "cell_type": "markdown",
   "metadata": {},
   "source": [
    "### Train"
   ]
  },
  {
   "cell_type": "code",
   "execution_count": 25,
   "metadata": {},
   "outputs": [],
   "source": [
    "import os\n",
    "N = 297\n",
    "SUB = 33\n",
    "Nsubs = 30\n",
    "ScaleFactor = 2\n",
    "folder = 'datasets/berkley/BSDS300/images/train/original/'\n",
    "originals = [os.path.join(folder,f) for f in os.listdir(folder) if os.path.isfile(os.path.join(folder,f))]\n",
    "hrdir = os.path.join(folder,'hr/')\n",
    "if not os.path.exists(hrdir):\n",
    "    os.makedirs(hrdir)\n",
    "    \n",
    "lrdir = os.path.join(folder,'lr/')\n",
    "if not os.path.exists(lrdir):\n",
    "    os.makedirs(lrdir)"
   ]
  },
  {
   "cell_type": "code",
   "execution_count": 26,
   "metadata": {},
   "outputs": [],
   "source": [
    "from PIL import Image\n",
    "from PIL import ImageFilter\n",
    "from random import randint\n",
    "\n",
    "\n",
    "for idx, im in enumerate(originals):\n",
    "    pim = Image.open(im)\n",
    "    pim = crop_center(pim, N, N)\n",
    "    crops = generate_crops(Nsubs, N, N, SUB, SUB)\n",
    "    for j, crop_tuple in enumerate(crops):\n",
    "        sim = pim.crop(crop_tuple)\n",
    "        sim.save(os.path.join(hrdir,'%d-%d.jpg' % (idx,j)))\n",
    "        sim = sim.filter(ImageFilter.GaussianBlur(radius=1))\n",
    "        sim = sim.resize((SUB // ScaleFactor, SUB // ScaleFactor), Image.BICUBIC)\n",
    "        sim = sim.resize((SUB+delta,SUB+delta), Image.BICUBIC)\n",
    "        sim.save(os.path.join(lrdir,'%d-%d-F%d.jpg' % (idx,j,ScaleFactor)))\n",
    "        \n",
    "    \n",
    "    "
   ]
  },
  {
   "cell_type": "code",
   "execution_count": 27,
   "metadata": {},
   "outputs": [],
   "source": [
    "import lmdb\n",
    "\n",
    "lrs = sorted([os.path.join(lrdir,f) for f in os.listdir(lrdir) if os.path.isfile(os.path.join(lrdir,f))])\n",
    "in_db = lmdb.open('berkley-train-image-lmdb-srcnn-dataset-x', map_size=int(1e12))\n",
    "with in_db.begin(write=True) as in_txn:\n",
    "    for in_idx, in_ in enumerate(lrs):\n",
    "        im = Image.open(in_) # load image:\n",
    "        im = np.array(im) # - as np.uint8 {0, ..., 255}\n",
    "        im = im[:,:,::-1] # - in BGR (switch from RGB)\n",
    "        im = im.transpose((2,0,1)) # - in Channel x Height x Width order (switch from H x W x C)\n",
    "        im_dat = caffe.io.array_to_datum(im)\n",
    "        in_txn.put('{:0>10d}'.format(in_idx), im_dat.SerializeToString())\n",
    "in_db.close()\n",
    "\n",
    "hrs = sorted([os.path.join(hrdir,f) for f in os.listdir(hrdir) if os.path.isfile(os.path.join(hrdir,f))])\n",
    "orim_db = lmdb.open('berkley-train-orim-image-lmdb-srcnn-dataset-x', map_size=int(1e12))\n",
    "with orim_db.begin(write=True) as in_txn:\n",
    "    for in_idx, in_ in enumerate(hrs):\n",
    "        orim = np.array(Image.open(in_))\n",
    "        orim = orim[:,:,::-1]\n",
    "        orim = orim.transpose((2,0,1))\n",
    "        \n",
    "        im_res = caffe.io.array_to_datum(orim)\n",
    "        in_txn.put('{:0>10d}'.format(in_idx), im_res.SerializeToString())\n",
    "orim_db.close()"
   ]
  },
  {
   "cell_type": "code",
   "execution_count": 28,
   "metadata": {},
   "outputs": [
    {
     "name": "stdout",
     "output_type": "stream",
     "text": [
      "['datasets/berkley/BSDS300/images/train/original/lr/0-0-F2.jpg', 'datasets/berkley/BSDS300/images/train/original/lr/0-1-F2.jpg', 'datasets/berkley/BSDS300/images/train/original/lr/0-10-F2.jpg', 'datasets/berkley/BSDS300/images/train/original/lr/0-11-F2.jpg', 'datasets/berkley/BSDS300/images/train/original/lr/0-12-F2.jpg']\n",
      "['datasets/berkley/BSDS300/images/train/original/hr/0-0.jpg', 'datasets/berkley/BSDS300/images/train/original/hr/0-1.jpg', 'datasets/berkley/BSDS300/images/train/original/hr/0-10.jpg', 'datasets/berkley/BSDS300/images/train/original/hr/0-11.jpg', 'datasets/berkley/BSDS300/images/train/original/hr/0-12.jpg']\n"
     ]
    }
   ],
   "source": [
    "print(lrs[:5])\n",
    "print(hrs[:5])"
   ]
  },
  {
   "cell_type": "markdown",
   "metadata": {},
   "source": [
    "### Test (actually validation)"
   ]
  },
  {
   "cell_type": "code",
   "execution_count": 29,
   "metadata": {},
   "outputs": [],
   "source": [
    "import os\n",
    "N = 297\n",
    "SUB = 33\n",
    "Nsubs = 30\n",
    "ScaleFactor = 2\n",
    "folder = 'datasets/berkley/BSDS300/images/test/original/'\n",
    "originals = [os.path.join(folder,f) for f in os.listdir(folder) if os.path.isfile(os.path.join(folder,f))]\n",
    "hrdir = os.path.join(folder,'hr/')\n",
    "if not os.path.exists(hrdir):\n",
    "    os.makedirs(hrdir)\n",
    "    \n",
    "lrdir = os.path.join(folder,'lr/')\n",
    "if not os.path.exists(lrdir):\n",
    "    os.makedirs(lrdir)"
   ]
  },
  {
   "cell_type": "code",
   "execution_count": 30,
   "metadata": {},
   "outputs": [],
   "source": [
    "from PIL import Image\n",
    "from PIL import ImageFilter\n",
    "from random import randint\n",
    "\n",
    "for idx, im in enumerate(originals):\n",
    "    pim = Image.open(im)\n",
    "    pim = crop_center(pim, N, N)\n",
    "    crops = generate_crops(Nsubs, N, N, SUB, SUB)\n",
    "    for j, crop_tuple in enumerate(crops):\n",
    "        sim = pim.crop(crop_tuple)\n",
    "        sim.save(os.path.join(hrdir,'%d-%d.jpg' % (idx,j)))\n",
    "        sim = sim.filter(ImageFilter.GaussianBlur(radius=1))\n",
    "        sim = sim.resize((SUB // ScaleFactor, SUB // ScaleFactor), Image.BICUBIC)\n",
    "        sim = sim.resize((SUB+delta,SUB+delta), Image.BICUBIC)\n",
    "        sim.save(os.path.join(lrdir,'%d-%d-F%d.jpg' % (idx,j,ScaleFactor)))\n",
    "        \n",
    "    \n",
    "    "
   ]
  },
  {
   "cell_type": "code",
   "execution_count": 31,
   "metadata": {},
   "outputs": [],
   "source": [
    "import lmdb\n",
    "\n",
    "lrs = sorted([os.path.join(lrdir,f) for f in os.listdir(lrdir) if os.path.isfile(os.path.join(lrdir,f))])\n",
    "in_db = lmdb.open('berkley-test-image-lmdb-srcnn-dataset-x', map_size=int(1e12))\n",
    "with in_db.begin(write=True) as in_txn:\n",
    "    for in_idx, in_ in enumerate(lrs):\n",
    "        im = Image.open(in_) # load image:\n",
    "        im = np.array(im) # - as np.uint8 {0, ..., 255}\n",
    "        im = im[:,:,::-1] # - in BGR (switch from RGB)\n",
    "        im = im.transpose((2,0,1)) # - in Channel x Height x Width order (switch from H x W x C)\n",
    "        im_dat = caffe.io.array_to_datum(im)\n",
    "        in_txn.put('{:0>10d}'.format(in_idx), im_dat.SerializeToString())\n",
    "in_db.close()\n",
    "\n",
    "hrs = sorted([os.path.join(hrdir,f) for f in os.listdir(hrdir) if os.path.isfile(os.path.join(hrdir,f))])\n",
    "orim_db = lmdb.open('berkley-test-orim-image-lmdb-srcnn-dataset-x', map_size=int(1e12))\n",
    "with orim_db.begin(write=True) as in_txn:\n",
    "    for in_idx, in_ in enumerate(hrs):\n",
    "        orim = np.array(Image.open(in_))\n",
    "        orim = orim[:,:,::-1]\n",
    "        orim = orim.transpose((2,0,1))\n",
    "        \n",
    "        im_res = caffe.io.array_to_datum(orim)\n",
    "        in_txn.put('{:0>10d}'.format(in_idx), im_res.SerializeToString())\n",
    "orim_db.close()"
   ]
  },
  {
   "cell_type": "code",
   "execution_count": 32,
   "metadata": {},
   "outputs": [
    {
     "name": "stdout",
     "output_type": "stream",
     "text": [
      "['datasets/berkley/BSDS300/images/test/original/lr/0-0-F2.jpg', 'datasets/berkley/BSDS300/images/test/original/lr/0-1-F2.jpg', 'datasets/berkley/BSDS300/images/test/original/lr/0-10-F2.jpg', 'datasets/berkley/BSDS300/images/test/original/lr/0-11-F2.jpg', 'datasets/berkley/BSDS300/images/test/original/lr/0-12-F2.jpg']\n",
      "['datasets/berkley/BSDS300/images/test/original/hr/0-0.jpg', 'datasets/berkley/BSDS300/images/test/original/hr/0-1.jpg', 'datasets/berkley/BSDS300/images/test/original/hr/0-10.jpg', 'datasets/berkley/BSDS300/images/test/original/hr/0-11.jpg', 'datasets/berkley/BSDS300/images/test/original/hr/0-12.jpg']\n"
     ]
    }
   ],
   "source": [
    "print(lrs[:5])\n",
    "print(hrs[:5])"
   ]
  },
  {
   "cell_type": "markdown",
   "metadata": {},
   "source": [
    "### Prepare model"
   ]
  },
  {
   "cell_type": "code",
   "execution_count": 4,
   "metadata": {
    "collapsed": true
   },
   "outputs": [],
   "source": [
    "caffe.set_mode_gpu()"
   ]
  },
  {
   "cell_type": "code",
   "execution_count": 5,
   "metadata": {},
   "outputs": [],
   "source": [
    "from caffe import layers as L, params as P\n",
    "\n",
    "def srcnn(lmdb1,lmdb2, batch_size, mean_file='abc'):\n",
    "    n = caffe.NetSpec()\n",
    "    \n",
    "    n.data = L.Data(batch_size=batch_size, backend=P.Data.LMDB, source=lmdb1, ntop=1)\n",
    "    n.orim = L.Data(batch_size=batch_size, backend=P.Data.LMDB, source=lmdb2, ntop=1)\n",
    "\n",
    "    n.conv1 = L.Convolution(n.data, kernel_size=9, num_output=64, weight_filler=dict(type='gaussian', std=0.01))\n",
    "    n.relu1 = L.ReLU(n.conv1, in_place=True)\n",
    "    n.conv2 = L.Convolution(n.relu1, kernel_size=1, num_output=32, weight_filler=dict(type='gaussian', std=0.01))\n",
    "    n.relu2 = L.ReLU(n.conv2, in_place=True)\n",
    "    n.conv3 = L.Convolution(n.relu2, kernel_size=5, num_output=3, weight_filler=dict(type='gaussian', std=0.01))\n",
    "    \n",
    "\n",
    "    #n.crop1 = L.Crop(n.residue, n.conv20, axis=2, offset=40)\n",
    "    #n.crop2 = L.Crop(n.crop1, axis=3, offset=40)\n",
    "    \n",
    "    n.loss =  L.EuclideanLoss(n.conv3, n.orim)\n",
    "    return n.to_proto()\n",
    "\n",
    "# Important parameters!\n",
    "training_set_size = 6000\n",
    "testing_set_size = 3000\n",
    "train_batch_size = 2000\n",
    "test_batch_size = 1"
   ]
  },
  {
   "cell_type": "code",
   "execution_count": 6,
   "metadata": {},
   "outputs": [],
   "source": [
    "with open('srcnn_auto_train_srcnn-dataset-x.prototxt', 'w+') as f:\n",
    "    f.write(str(srcnn('berkley-train-image-lmdb-srcnn-dataset-x', 'berkley-train-orim-image-lmdb-srcnn-dataset-x', train_batch_size, 'means/srcnn_train_mean.binaryproto')))\n",
    "    \n",
    "with open('srcnn_auto_test_srcnn-dataset-x.prototxt', 'w+') as f:\n",
    "    f.write(str(srcnn('berkley-test-image-lmdb-srcnn-dataset-x', 'berkley-test-orim-image-lmdb-srcnn-dataset-x', test_batch_size, 'means/srcnn_test_mean.binaryproto')))"
   ]
  },
  {
   "cell_type": "code",
   "execution_count": null,
   "metadata": {
    "collapsed": true
   },
   "outputs": [],
   "source": [
    "!cat srcnn_auto_train_srcnn-dataset-x.prototxt"
   ]
  },
  {
   "cell_type": "code",
   "execution_count": null,
   "metadata": {
    "scrolled": true
   },
   "outputs": [],
   "source": [
    "!cat srcnn_auto_train_srcnn-dataset-x.prototxt"
   ]
  },
  {
   "cell_type": "code",
   "execution_count": null,
   "metadata": {},
   "outputs": [],
   "source": [
    "!cat srcnn_auto_solver_srcnn.prototxt"
   ]
  },
  {
   "cell_type": "code",
   "execution_count": 7,
   "metadata": {},
   "outputs": [],
   "source": [
    "# initialize solver\n",
    "solver = caffe.SGDSolver('srcnn_auto_solver_srcnn-dataset-x.prototxt')"
   ]
  },
  {
   "cell_type": "code",
   "execution_count": 8,
   "metadata": {
    "collapsed": true
   },
   "outputs": [],
   "source": [
    "# restore model from iteration x\n",
    "solver.net.copy_from('snapshot/srcnn-dataset-x-24000.caffemodel')"
   ]
  },
  {
   "cell_type": "code",
   "execution_count": null,
   "metadata": {},
   "outputs": [],
   "source": [
    "# define the structure of the model for the first time\n",
    "model_def = 'srcnn_auto_train_srcnn-dataset-x.prototxt'\n",
    "net = caffe.Net(model_def,\n",
    "                caffe.TRAIN)"
   ]
  },
  {
   "cell_type": "code",
   "execution_count": 6,
   "metadata": {},
   "outputs": [
    {
     "data": {
      "text/plain": [
       "[('data', (100, 3, 45, 45)),\n",
       " ('orim', (100, 3, 33, 33)),\n",
       " ('conv1', (100, 64, 37, 37)),\n",
       " ('conv2', (100, 32, 37, 37)),\n",
       " ('conv3', (100, 3, 33, 33)),\n",
       " ('loss', ())]"
      ]
     },
     "execution_count": 6,
     "metadata": {},
     "output_type": "execute_result"
    }
   ],
   "source": [
    "# each output is (batch size, feature dim, spatial dim)\n",
    "[(k, v.data.shape) for k, v in solver.net.blobs.items()]"
   ]
  },
  {
   "cell_type": "code",
   "execution_count": 7,
   "metadata": {},
   "outputs": [
    {
     "data": {
      "text/plain": [
       "[('conv1', (64, 3, 9, 9)), ('conv2', (32, 64, 1, 1)), ('conv3', (3, 32, 5, 5))]"
      ]
     },
     "execution_count": 7,
     "metadata": {},
     "output_type": "execute_result"
    }
   ],
   "source": [
    "# just print the weight sizes (we'll omit the biases)\n",
    "[(k, v[0].data.shape) for k, v in solver.net.params.items()]"
   ]
  },
  {
   "cell_type": "markdown",
   "metadata": {},
   "source": [
    "## Work"
   ]
  },
  {
   "cell_type": "code",
   "execution_count": null,
   "metadata": {},
   "outputs": [
    {
     "name": "stdout",
     "output_type": "stream",
     "text": [
      "Iteration 0 testing...\n"
     ]
    }
   ],
   "source": [
    "%%time\n",
    "\n",
    "niter = 960000\n",
    "test_interval = 300\n",
    "train_interval = 60\n",
    "# losses will also be stored in the log\n",
    "train_loss = np.zeros(int(np.ceil(niter / train_interval)))\n",
    "test_loss = np.zeros(int(np.ceil(niter // test_interval)))\n",
    "pictures_number = niter // test_interval\n",
    "rowsnum = 10\n",
    "picidx = 0\n",
    "# the main solver loop\n",
    "for it in range(niter):\n",
    "    solver.step(1)  # SGD by Caffe\n",
    "    # store the train loss\n",
    "    if it % train_interval == 0:\n",
    "        train_loss[it // train_interval] = solver.net.blobs['loss'].data\n",
    "    \n",
    "    # run a full test every so often\n",
    "    # (Caffe can also do this for us and write to a log, but we show here\n",
    "    #  how to do it directly in Python, where more complicated things are easier.)\n",
    "    if it % test_interval == 0:\n",
    "        picidx += 1\n",
    "        print 'Iteration', it, 'testing...'\n",
    "        score = 0.0\n",
    "        for test_it in range(testing_set_size // test_batch_size):\n",
    "            solver.test_nets[0].forward()\n",
    "            score += solver.test_nets[0].blobs['loss'].data\n",
    "        test_loss[it // test_interval] = score\n"
   ]
  },
  {
   "cell_type": "markdown",
   "metadata": {},
   "source": [
    "## Other"
   ]
  },
  {
   "cell_type": "code",
   "execution_count": null,
   "metadata": {},
   "outputs": [],
   "source": [
    "# send results via email\n",
    "#!/usr/bin/env python\n",
    "# encoding: utf-8\n",
    "\n",
    "import smtplib\n",
    "from datetime import datetime\n",
    "\n",
    "\n",
    "def noticeEMail(train_str, test_str, usr, psw, fromaddr, toaddr):\n",
    "    \"\"\"\n",
    "    Sends an email message through GMail once the script is completed.  \n",
    "    Developed to be used with AWS so that instances can be terminated \n",
    "    once a long job is done. Only works for those with GMail accounts.\n",
    "    \n",
    "    starttime : a datetime() object for when to start run time clock\n",
    "    usr : the GMail username, as a string\n",
    "    psw : the GMail password, as a string \n",
    "    \n",
    "    fromaddr : the email address the message will be from, as a string\n",
    "    \n",
    "    toaddr : a email address, or a list of addresses, to send the \n",
    "             message to\n",
    "    \"\"\"\n",
    "\n",
    "    \n",
    "    # Initialize SMTP server\n",
    "    server=smtplib.SMTP('smtp.gmail.com:587')\n",
    "    server.starttls()\n",
    "    server.login(usr,psw)\n",
    "    \n",
    "    # Send email\n",
    "    senddate=datetime.strftime(datetime.now(), '%Y-%m-%d')\n",
    "    subject=\"Your job is complete\"\n",
    "    m=\"Date: %s\\r\\nFrom: %s\\r\\nTo: %s\\r\\nSubject: %s\\r\\nX-Mailer: My-Mail\\r\\n\\r\\n\" % (senddate, fromaddr, toaddr, subject)\n",
    "    msg='''\n",
    "    \n",
    "    train: ''' + train_str + ''' \n",
    "    \n",
    "    test ''' + test_str\n",
    "    \n",
    "    server.sendmail(fromaddr, toaddr, m+msg)\n",
    "    server.quit()\n",
    "\n",
    "\n",
    "if __name__ == '__main__':    \n",
    "    # Fill these in with the appropriate info...\n",
    "    usr='dem4064@gmail.com'\n",
    "    # psw=''\n",
    "    fromaddr='dem4064@gmail.com'\n",
    "    toaddr='dmitriy.denisenko@phystech.edu'\n",
    "\n",
    "    # Send notification email\n",
    "    noticeEMail(np.array_str(train_loss), np.array_str(test_loss), usr, psw, fromaddr, toaddr)"
   ]
  },
  {
   "cell_type": "code",
   "execution_count": 10,
   "metadata": {},
   "outputs": [
    {
     "data": {
      "image/png": "[encoded data removed]",
      "text/plain": [
       "<matplotlib.figure.Figure at 0x7f855f9525d0>"
      ]
     },
     "metadata": {},
     "output_type": "display_data"
    }
   ],
   "source": [
    "from matplotlib import pyplot as plt\n",
    "%matplotlib inline\n",
    "plt.figure(num=1, figsize=(48,24), dpi=80, facecolor='w', edgecolor='k')\n",
    "plt.subplot()\n",
    "plt.grid(True)\n",
    "plt.plot(train_interval * np.arange(len(train_loss)), train_loss)\n",
    "plt.plot(test_interval * np.arange(len(test_loss)), test_loss, 'r')\n",
    "plt.xlabel('iteration')\n",
    "plt.ylabel('loss')\n",
    "plt.title('loss, iteration %d' % it)\n",
    "plt.legend(['train', 'test'], loc='best')\n",
    "plt.show()\n"
   ]
  },
  {
   "cell_type": "code",
   "execution_count": null,
   "metadata": {},
   "outputs": [],
   "source": [
    "plt.figure(num=1, figsize=(48,24), dpi=80, facecolor='w', edgecolor='k')\n",
    "_, ax1 = plt.subplots()\n",
    "ax2 = ax1.twinx()\n",
    "ax1.plot(train_interval * np.arange(len(train_loss)), train_loss)\n",
    "ax2.plot(test_interval * np.arange(len(test_loss)), test_loss, 'r')\n",
    "ax1.set_xlabel('iteration')\n",
    "ax1.set_ylabel('train loss')\n",
    "ax2.set_ylabel('test loss')\n",
    "plt.show()"
   ]
  },
  {
   "cell_type": "markdown",
   "metadata": {
    "collapsed": true
   },
   "source": [
    "### Test on Set5"
   ]
  },
  {
   "cell_type": "code",
   "execution_count": 4,
   "metadata": {},
   "outputs": [],
   "source": [
    "import os\n",
    "N = 297\n",
    "SUB = 33\n",
    "Nsubs = 30\n",
    "ScaleFactor = 2\n",
    "folder = 'datasets/Set5/original/'\n",
    "originals = [os.path.join(folder,f) for f in os.listdir(folder) if os.path.isfile(os.path.join(folder,f))]\n",
    "hrdir = os.path.join(folder,'hr/')\n",
    "if not os.path.exists(hrdir):\n",
    "    os.makedirs(hrdir)\n",
    "    \n",
    "lrdir = os.path.join(folder,'lr/')\n",
    "if not os.path.exists(lrdir):\n",
    "    os.makedirs(lrdir)"
   ]
  },
  {
   "cell_type": "code",
   "execution_count": 21,
   "metadata": {},
   "outputs": [],
   "source": [
    "from PIL import Image\n",
    "from PIL import ImageFilter\n",
    "from random import randint\n",
    "\n",
    "for idx, im in enumerate(originals):\n",
    "    pim = Image.open(im)\n",
    "    # pim = crop_center(pim, N, N)\n",
    "    crops = generate_crops(Nsubs, N, N, SUB, SUB)\n",
    "    for j, crop_tuple in enumerate(crops):\n",
    "        sim = pim.crop(crop_tuple)\n",
    "        sim.save(os.path.join(hrdir,'%d-%d.jpg' % (idx,j)))\n",
    "        sim = sim.filter(ImageFilter.GaussianBlur(radius=1))\n",
    "        sim = sim.resize((SUB // ScaleFactor, SUB // ScaleFactor), Image.BICUBIC)\n",
    "        sim = sim.resize((SUB+delta,SUB+delta), Image.BICUBIC)\n",
    "        sim.save(os.path.join(lrdir,'%d-%d-F%d.jpg' % (idx,j,ScaleFactor)))\n",
    "        \n",
    "    \n",
    "    "
   ]
  },
  {
   "cell_type": "code",
   "execution_count": 5,
   "metadata": {},
   "outputs": [],
   "source": [
    "lrs = sorted([os.path.join(lrdir,f) for f in os.listdir(lrdir) if os.path.isfile(os.path.join(lrdir,f))])\n",
    "hrs = sorted([os.path.join(hrdir,f) for f in os.listdir(hrdir) if os.path.isfile(os.path.join(hrdir,f))])"
   ]
  },
  {
   "cell_type": "code",
   "execution_count": 6,
   "metadata": {},
   "outputs": [
    {
     "name": "stdout",
     "output_type": "stream",
     "text": [
      "['datasets/Set5/original/lr/0-0-F2.jpg', 'datasets/Set5/original/lr/0-1-F2.jpg', 'datasets/Set5/original/lr/0-10-F2.jpg', 'datasets/Set5/original/lr/0-11-F2.jpg', 'datasets/Set5/original/lr/0-12-F2.jpg']\n",
      "['datasets/Set5/original/hr/0-0.jpg', 'datasets/Set5/original/hr/0-1.jpg', 'datasets/Set5/original/hr/0-10.jpg', 'datasets/Set5/original/hr/0-11.jpg', 'datasets/Set5/original/hr/0-12.jpg']\n"
     ]
    }
   ],
   "source": [
    "print(lrs[:5])\n",
    "print(hrs[:5])"
   ]
  },
  {
   "cell_type": "code",
   "execution_count": 7,
   "metadata": {
    "collapsed": true
   },
   "outputs": [],
   "source": [
    "weights = 'snapshot/srcnn-dataset-x-24000.caffemodel'\n",
    "model = 'srcnn-dataset-x-deploy.prototxt'\n",
    "\n",
    "net = caffe.Net(model, weights, caffe.TEST)"
   ]
  },
  {
   "cell_type": "code",
   "execution_count": 9,
   "metadata": {},
   "outputs": [
    {
     "name": "stderr",
     "output_type": "stream",
     "text": [
      "/usr/local/lib/python2.7/dist-packages/ipykernel_launcher.py:17: RuntimeWarning: divide by zero encountered in log10\n"
     ]
    }
   ],
   "source": [
    "from PIL import Image\n",
    "results = []\n",
    "psnrs = []\n",
    "\n",
    "for idx,f in enumerate(lrs):\n",
    "    x = np.array(Image.open(f))\n",
    "    img = x[:,:,::-1]\n",
    "    img = img.transpose((2,0,1))\n",
    "    img = img[None,:]\n",
    "    out = net.forward_all(data=img)\n",
    "    res = out['result'][0]\n",
    "    res = res.transpose((1,2,0))[:,:,::-1]\n",
    "    results.append(res.astype('uint8'))\n",
    "    y = np.array(Image.open(hrs[idx]))\n",
    "    y = y[:,:,::-1]\n",
    "    y = y.transpose((2,0,1))\n",
    "    psnr = 20*np.log10(np.max(y)/np.sqrt((1.0/SUB**2)*(np.sum((y[0]-out['result'][0][0])**2)+np.sum((y[1]-out['result'][0][1])**2)+np.sum((y[2]-out['result'][0][2])**2))))\n",
    "    psnrs.append(psnr)\n",
    "    \n",
    "    "
   ]
  },
  {
   "cell_type": "code",
   "execution_count": 10,
   "metadata": {},
   "outputs": [
    {
     "data": {
      "image/png": "[encoded data removed]",
      "text/plain": [
       "<PIL.JpegImagePlugin.JpegImageFile image mode=RGB size=45x45 at 0x7F4C07694850>"
      ]
     },
     "execution_count": 10,
     "metadata": {},
     "output_type": "execute_result"
    }
   ],
   "source": [
    "from PIL import Image\n",
    "Image.open(lrs[5])"
   ]
  },
  {
   "cell_type": "code",
   "execution_count": 11,
   "metadata": {},
   "outputs": [
    {
     "data": {
      "image/png": "[encoded data removed]",
      "text/plain": [
       "<PIL.Image.Image image mode=RGB size=33x33 at 0x7F4C075611D0>"
      ]
     },
     "execution_count": 11,
     "metadata": {},
     "output_type": "execute_result"
    }
   ],
   "source": [
    "Image.fromarray(results[5])"
   ]
  },
  {
   "cell_type": "code",
   "execution_count": 12,
   "metadata": {},
   "outputs": [
    {
     "data": {
      "image/png": "[encoded data removed]",
      "text/plain": [
       "<PIL.JpegImagePlugin.JpegImageFile image mode=RGB size=33x33 at 0x7F4C07694150>"
      ]
     },
     "execution_count": 12,
     "metadata": {},
     "output_type": "execute_result"
    }
   ],
   "source": [
    "Image.open(hrs[5])"
   ]
  },
  {
   "cell_type": "code",
   "execution_count": 13,
   "metadata": {},
   "outputs": [
    {
     "data": {
      "text/plain": [
       "array([ 16.47596265,  12.22095345,  14.65992203,  14.78426752,\n",
       "        26.92513986,  13.38272521,  17.81534125,  15.83787594,\n",
       "        12.94398467,  11.3539593 ,  14.25040188,  11.70112424,\n",
       "        15.54216317,  16.42360779,  16.78242721,  12.58257558,\n",
       "        15.96138702,  16.16106757,  14.09972711,  15.16861028,\n",
       "        20.5794808 ,  14.43591053,  16.68908914,  13.97554432,\n",
       "        13.65731908,  17.26507562,  15.42373241,  15.76454946,\n",
       "        17.3039379 ,  11.49212913,  16.87968643,  15.61847146,\n",
       "               -inf,  27.45772349,  23.00067474,  14.61382099,\n",
       "        13.60417744,  17.99075171,         -inf,  11.3565477 ,\n",
       "               -inf,   9.1702314 ,  16.22372833,  12.45965813,\n",
       "        17.6327807 ,  14.76332402,  13.87325966,  13.78425967,\n",
       "        11.48283963,  16.11820801,         -inf,  14.20989368,\n",
       "        15.01054294,  18.50489507,  12.60262547,  10.37790142,\n",
       "               -inf,  17.4639738 ,  15.64175825,  18.12594815,\n",
       "               -inf,  20.31815123,  10.61573738,   9.16213373,\n",
       "        10.87904357,  10.47753144,  11.59813393,         -inf,\n",
       "        11.94963176,   9.29799231,   7.55789509,   8.85277801,\n",
       "         7.77983722,  11.56748267,         -inf,  10.70437738,\n",
       "               -inf,   8.20195636,  10.63770617,   9.86774702,\n",
       "        11.18098593,         -inf,         -inf,   9.55870929,\n",
       "               -inf,         -inf,  11.89697493,   7.68617488,\n",
       "        10.98641164,   9.04422169,  14.96278471,  13.04977415,\n",
       "        21.94365237,  12.33169973,  14.86311554,  17.41650766,\n",
       "        14.13407527,  22.33542634,  12.05962443,  18.52903595,\n",
       "        13.28540509,  21.914427  ,  20.94934694,  19.37549128,\n",
       "        17.48592126,  12.80021082,  12.11273192,  18.26910045,\n",
       "        14.7625167 ,  13.97627111,  17.36510653,  19.44540964,\n",
       "        10.6830265 ,  24.1084258 ,  18.28452823,  12.72548184,\n",
       "        13.33642091,  13.81159666,  16.15850185,  13.43931368,\n",
       "        18.02681454,  16.99117267,  16.5771756 ,  16.54975887,\n",
       "        23.33841244,  21.72391302,  28.21490395,  16.10011271,\n",
       "        16.13340919,  17.0784481 ,  29.91572312,  15.566634  ,\n",
       "        16.77146379,  15.46418395,  15.44840866,  16.11971805,\n",
       "        15.3770587 ,  31.39452765,  14.72371916,  35.7185367 ,\n",
       "        17.54856486,  31.78836732,  25.38135409,  18.24927407,\n",
       "        17.6494673 ,  31.18584632,  19.88098681,  13.53373433,\n",
       "        33.00944228,  14.97761349])"
      ]
     },
     "execution_count": 13,
     "metadata": {},
     "output_type": "execute_result"
    }
   ],
   "source": [
    "np.array(psnrs)"
   ]
  },
  {
   "cell_type": "code",
   "execution_count": null,
   "metadata": {
    "collapsed": true
   },
   "outputs": [],
   "source": [
    "cleared_psnrs = [ for elem in psnrs if elem != -inf]        "
   ]
  }
 ],
 "metadata": {
  "anaconda-cloud": {},
  "kernelspec": {
   "display_name": "Python 2",
   "language": "python",
   "name": "python2"
  },
  "language_info": {
   "codemirror_mode": {
    "name": "ipython",
    "version": 2
   },
   "file_extension": ".py",
   "mimetype": "text/x-python",
   "name": "python",
   "nbconvert_exporter": "python",
   "pygments_lexer": "ipython2",
   "version": "2.7.12"
  }
 },
 "nbformat": 4,
 "nbformat_minor": 1
}
