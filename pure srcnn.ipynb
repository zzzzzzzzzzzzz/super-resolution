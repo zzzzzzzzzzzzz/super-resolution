{
 "cells": [
  {
   "cell_type": "markdown",
   "metadata": {},
   "source": [
    "# Super resolution\n",
    "This notebook tries to repeat the result of [this article](https://arxiv.org/pdf/1511.04587.pdf \"Accurate Image Super-Resolution Using Very Deep Convolutional Networks\")"
   ]
  },
  {
   "cell_type": "markdown",
   "metadata": {},
   "source": [
    "## Preparation"
   ]
  },
  {
   "cell_type": "code",
   "execution_count": 8,
   "metadata": {
    "collapsed": true
   },
   "outputs": [],
   "source": [
    "import numpy as np\n",
    "import pandas as pd\n",
    "import matplotlib \n",
    "import caffe\n",
    "from matplotlib import pyplot as plt\n",
    "%matplotlib inline"
   ]
  },
  {
   "cell_type": "markdown",
   "metadata": {},
   "source": [
    "### Prepare dataset"
   ]
  },
  {
   "cell_type": "markdown",
   "metadata": {},
   "source": [
    "### Train"
   ]
  },
  {
   "cell_type": "code",
   "execution_count": 2,
   "metadata": {
    "collapsed": false
   },
   "outputs": [],
   "source": [
    "import os\n",
    "folder = 'datasets/berkley/BSDS300/images/train/reducedx2/'\n",
    "originals = [os.path.join(folder,f) for f in os.listdir(folder) if os.path.isfile(os.path.join(folder,f)) if 'reducedx2' not in f]\n",
    "reducedx2 = [os.path.join(folder,f) for f in os.listdir(folder) if os.path.isfile(os.path.join(folder,f)) if 'reducedx2' in f]"
   ]
  },
  {
   "cell_type": "code",
   "execution_count": 3,
   "metadata": {
    "collapsed": false
   },
   "outputs": [
    {
     "name": "stdout",
     "output_type": "stream",
     "text": [
      "196015.jpg\n",
      "reducedx2-109034.jpg\n"
     ]
    }
   ],
   "source": [
    "print(os.path.basename(originals[0]))\n",
    "print(os.path.basename(reducedx2[0]))"
   ]
  },
  {
   "cell_type": "code",
   "execution_count": 4,
   "metadata": {
    "collapsed": false
   },
   "outputs": [
    {
     "name": "stdout",
     "output_type": "stream",
     "text": [
      "200\n",
      "200\n"
     ]
    }
   ],
   "source": [
    "print(len(originals))\n",
    "print(len(reducedx2))"
   ]
  },
  {
   "cell_type": "code",
   "execution_count": 5,
   "metadata": {
    "collapsed": false
   },
   "outputs": [],
   "source": [
    "import lmdb\n",
    "from PIL import Image\n",
    "\n",
    "in_db = lmdb.open('berkley-train-image-lmdb-srcnn', map_size=int(1e12))\n",
    "with in_db.begin(write=True) as in_txn:\n",
    "    for in_idx, in_ in enumerate(reducedx2):\n",
    "        im = Image.open(in_) # load image:\n",
    "        if im.height < im.width:\n",
    "            im = im.resize((493, 333), Image.BICUBIC) #40 pixels bigger because of convolutions\n",
    "        else:\n",
    "            im = im.resize((333, 493), Image.BICUBIC)\n",
    "        im = np.array(im) # - as np.uint8 {0, ..., 255}\n",
    "        im = im[:,:,::-1] # - in BGR (switch from RGB)\n",
    "        im = im.transpose((2,0,1)) # - in Channel x Height x Width order (switch from H x W x C)\n",
    "        im_dat = caffe.io.array_to_datum(im)\n",
    "        in_txn.put('{:0>10d}'.format(in_idx), im_dat.SerializeToString())\n",
    "in_db.close()\n",
    "\n",
    "orim_db = lmdb.open('berkley-train-orim-image-lmdb-srcnn', map_size=int(1e12))\n",
    "with orim_db.begin(write=True) as in_txn:\n",
    "    for in_idx, in_ in enumerate(reducedx2):\n",
    "\n",
    "        orim = None\n",
    "        for original_path in originals:\n",
    "            if '-'+os.path.basename(original_path) in os.path.basename(in_):\n",
    "                orim = original_path\n",
    "                break\n",
    "        orim = np.array(Image.open(orim))\n",
    "        orim = orim[:,:,::-1]\n",
    "        orim = orim.transpose((2,0,1))\n",
    "        \n",
    "        im_res = caffe.io.array_to_datum(orim)\n",
    "        in_txn.put('{:0>10d}'.format(in_idx), im_res.SerializeToString())\n",
    "orim_db.close()"
   ]
  },
  {
   "cell_type": "markdown",
   "metadata": {},
   "source": [
    "### Test"
   ]
  },
  {
   "cell_type": "code",
   "execution_count": 6,
   "metadata": {
    "collapsed": false
   },
   "outputs": [],
   "source": [
    "import os\n",
    "folder = 'datasets/berkley/BSDS300/images/test/reducedx2/'\n",
    "originals = [os.path.join(folder,f) for f in os.listdir(folder) if os.path.isfile(os.path.join(folder,f)) if 'reducedx2' not in f]\n",
    "reducedx2 = [os.path.join(folder,f) for f in os.listdir(folder) if os.path.isfile(os.path.join(folder,f)) if 'reducedx2' in f]"
   ]
  },
  {
   "cell_type": "code",
   "execution_count": 7,
   "metadata": {
    "collapsed": false
   },
   "outputs": [
    {
     "name": "stdout",
     "output_type": "stream",
     "text": [
      "175032.jpg\n",
      "reducedx2-216081.jpg\n"
     ]
    }
   ],
   "source": [
    "print(os.path.basename(originals[0]))\n",
    "print(os.path.basename(reducedx2[0]))"
   ]
  },
  {
   "cell_type": "code",
   "execution_count": 8,
   "metadata": {
    "collapsed": false
   },
   "outputs": [
    {
     "name": "stdout",
     "output_type": "stream",
     "text": [
      "100\n",
      "100\n"
     ]
    }
   ],
   "source": [
    "print(len(originals))\n",
    "print(len(reducedx2))"
   ]
  },
  {
   "cell_type": "code",
   "execution_count": 9,
   "metadata": {
    "collapsed": false
   },
   "outputs": [],
   "source": [
    "import lmdb\n",
    "from PIL import Image\n",
    "\n",
    "in_db = lmdb.open('berkley-test-image-lmdb-srcnn', map_size=int(1e12))\n",
    "with in_db.begin(write=True) as in_txn:\n",
    "    for in_idx, in_ in enumerate(reducedx2):\n",
    "        im = Image.open(in_) # load image:\n",
    "        if im.height < im.width:\n",
    "            im = im.resize((493, 333), Image.BICUBIC)\n",
    "        else:\n",
    "            im = im.resize((333, 493), Image.BICUBIC)\n",
    "        im = np.array(im) # - as np.uint8 {0, ..., 255}\n",
    "        im = im[:,:,::-1] # - in BGR (switch from RGB)\n",
    "        im = im.transpose((2,0,1)) # - in Channel x Height x Width order (switch from H x W x C)\n",
    "        im_dat = caffe.io.array_to_datum(im)\n",
    "        in_txn.put('{:0>10d}'.format(in_idx), im_dat.SerializeToString())\n",
    "in_db.close()\n",
    "\n",
    "orim_db = lmdb.open('berkley-test-orim-image-lmdb-srcnn', map_size=int(1e12))\n",
    "with orim_db.begin(write=True) as in_txn:\n",
    "    for in_idx, in_ in enumerate(reducedx2):\n",
    "\n",
    "        orim = None\n",
    "        for original_path in originals:\n",
    "            if '-'+os.path.basename(original_path) in os.path.basename(in_):\n",
    "                orim = original_path\n",
    "                break\n",
    "\n",
    "        orim = np.array(Image.open(orim))\n",
    "        orim = orim[:,:,::-1]\n",
    "        orim = orim.transpose((2,0,1))\n",
    "        \n",
    "        im_res = caffe.io.array_to_datum(orim)\n",
    "        in_txn.put('{:0>10d}'.format(in_idx), im_res.SerializeToString())\n",
    "orim_db.close()"
   ]
  },
  {
   "cell_type": "markdown",
   "metadata": {},
   "source": [
    "### Prepare model"
   ]
  },
  {
   "cell_type": "code",
   "execution_count": 2,
   "metadata": {
    "collapsed": true
   },
   "outputs": [],
   "source": [
    "caffe.set_mode_gpu()"
   ]
  },
  {
   "cell_type": "code",
   "execution_count": 3,
   "metadata": {
    "collapsed": false
   },
   "outputs": [],
   "source": [
    "from caffe import layers as L, params as P\n",
    "\n",
    "def srcnn(lmdb1,lmdb2, batch_size, mean_file='abc'):\n",
    "    n = caffe.NetSpec()\n",
    "    \n",
    "    n.data = L.Data(batch_size=batch_size, backend=P.Data.LMDB, source=lmdb1, ntop=1, transform_param={'scale':1/(256.0*256.0)})\n",
    "    n.orim = L.Data(batch_size=batch_size, backend=P.Data.LMDB, source=lmdb2, ntop=1, transform_param={'scale':1/(256.0*256.0)})\n",
    "\n",
    "    n.conv1 = L.Convolution(n.data, kernel_size=9,num_output=64, weight_filler=dict(type='gaussian', std=0.01))\n",
    "    n.relu1 = L.ReLU(n.conv1, in_place=True)\n",
    "    n.conv2 = L.Convolution(n.relu1, kernel_size=1, num_output=32, weight_filler=dict(type='gaussian', std=0.01))\n",
    "    n.relu2 = L.ReLU(n.conv2, in_place=True)\n",
    "    n.conv3 = L.Convolution(n.relu2, kernel_size=5, num_output=3, weight_filler=dict(type='gaussian', std=0.01))\n",
    "    \n",
    "\n",
    "    #n.crop1 = L.Crop(n.residue, n.conv20, axis=2, offset=40)\n",
    "    #n.crop2 = L.Crop(n.crop1, axis=3, offset=40)\n",
    "    \n",
    "    n.loss =  L.EuclideanLoss(n.conv3, n.orim)\n",
    "    return n.to_proto()\n",
    "\n",
    "# Important parameters!\n",
    "training_set_size = 200\n",
    "testing_set_size = 100\n",
    "train_batch_size = 10\n",
    "test_batch_size = 10"
   ]
  },
  {
   "cell_type": "code",
   "execution_count": 4,
   "metadata": {
    "collapsed": false
   },
   "outputs": [],
   "source": [
    "with open('srcnn_auto_train_srcnn.prototxt', 'w+') as f:\n",
    "    f.write(str(srcnn('berkley-train-image-lmdb-srcnn', 'berkley-train-orim-image-lmdb-srcnn', train_batch_size, 'means/srcnn_train_mean.binaryproto')))\n",
    "    \n",
    "with open('srcnn_auto_test_srcnn.prototxt', 'w+') as f:\n",
    "    f.write(str(srcnn('berkley-test-image-lmdb-srcnn', 'berkley-test-orim-image-lmdb-srcnn', test_batch_size, 'means/srcnn_test_mean.binaryproto')))"
   ]
  },
  {
   "cell_type": "code",
   "execution_count": null,
   "metadata": {
    "collapsed": true
   },
   "outputs": [],
   "source": [
    "!cat srcnn_auto_train_srcnn.prototxt"
   ]
  },
  {
   "cell_type": "code",
   "execution_count": null,
   "metadata": {
    "collapsed": false,
    "scrolled": true
   },
   "outputs": [],
   "source": [
    "!cat srcnn_auto_train_srcnn.prototxt"
   ]
  },
  {
   "cell_type": "code",
   "execution_count": null,
   "metadata": {
    "collapsed": false
   },
   "outputs": [],
   "source": [
    "!cat srcnn_auto_solver_srcnn.prototxt"
   ]
  },
  {
   "cell_type": "code",
   "execution_count": 5,
   "metadata": {
    "collapsed": false
   },
   "outputs": [],
   "source": [
    "# initialize solver\n",
    "solver = caffe.SGDSolver('srcnn_auto_solver_srcnn.prototxt')"
   ]
  },
  {
   "cell_type": "code",
   "execution_count": 6,
   "metadata": {
    "collapsed": true
   },
   "outputs": [],
   "source": [
    "# restore model from iteration x\n",
    "solver.net.copy_from('snapshot/srcnn-3000.caffemodel')"
   ]
  },
  {
   "cell_type": "code",
   "execution_count": null,
   "metadata": {
    "collapsed": false
   },
   "outputs": [],
   "source": [
    "# define the structure of the model for the first time\n",
    "model_def = 'srcnn_auto_train_srcnn.prototxt'\n",
    "net = caffe.Net(model_def,\n",
    "                caffe.TRAIN)"
   ]
  },
  {
   "cell_type": "code",
   "execution_count": 14,
   "metadata": {
    "collapsed": false
   },
   "outputs": [
    {
     "data": {
      "text/plain": [
       "[('data', (1, 3, 361, 521)),\n",
       " ('residue', (1, 3, 321, 481)),\n",
       " ('conv1', (1, 64, 359, 519)),\n",
       " ('conv2', (1, 64, 357, 517)),\n",
       " ('conv3', (1, 64, 355, 515)),\n",
       " ('conv4', (1, 64, 353, 513)),\n",
       " ('conv5', (1, 64, 351, 511)),\n",
       " ('conv6', (1, 64, 349, 509)),\n",
       " ('conv7', (1, 64, 347, 507)),\n",
       " ('conv8', (1, 64, 345, 505)),\n",
       " ('conv9', (1, 64, 343, 503)),\n",
       " ('conv10', (1, 64, 341, 501)),\n",
       " ('conv11', (1, 64, 339, 499)),\n",
       " ('conv12', (1, 64, 337, 497)),\n",
       " ('conv13', (1, 64, 335, 495)),\n",
       " ('conv14', (1, 64, 333, 493)),\n",
       " ('conv15', (1, 64, 331, 491)),\n",
       " ('conv16', (1, 64, 329, 489)),\n",
       " ('conv17', (1, 64, 327, 487)),\n",
       " ('conv18', (1, 64, 325, 485)),\n",
       " ('conv19', (1, 64, 323, 483)),\n",
       " ('conv20', (1, 3, 321, 481)),\n",
       " ('loss', ())]"
      ]
     },
     "execution_count": 14,
     "metadata": {},
     "output_type": "execute_result"
    }
   ],
   "source": [
    "# each output is (batch size, feature dim, spatial dim)\n",
    "[(k, v.data.shape) for k, v in solver.net.blobs.items()]"
   ]
  },
  {
   "cell_type": "code",
   "execution_count": 15,
   "metadata": {
    "collapsed": false
   },
   "outputs": [
    {
     "data": {
      "text/plain": [
       "[('conv1', (64, 3, 3, 3)),\n",
       " ('conv2', (64, 64, 3, 3)),\n",
       " ('conv3', (64, 64, 3, 3)),\n",
       " ('conv4', (64, 64, 3, 3)),\n",
       " ('conv5', (64, 64, 3, 3)),\n",
       " ('conv6', (64, 64, 3, 3)),\n",
       " ('conv7', (64, 64, 3, 3)),\n",
       " ('conv8', (64, 64, 3, 3)),\n",
       " ('conv9', (64, 64, 3, 3)),\n",
       " ('conv10', (64, 64, 3, 3)),\n",
       " ('conv11', (64, 64, 3, 3)),\n",
       " ('conv12', (64, 64, 3, 3)),\n",
       " ('conv13', (64, 64, 3, 3)),\n",
       " ('conv14', (64, 64, 3, 3)),\n",
       " ('conv15', (64, 64, 3, 3)),\n",
       " ('conv16', (64, 64, 3, 3)),\n",
       " ('conv17', (64, 64, 3, 3)),\n",
       " ('conv18', (64, 64, 3, 3)),\n",
       " ('conv19', (64, 64, 3, 3)),\n",
       " ('conv20', (3, 64, 3, 3))]"
      ]
     },
     "execution_count": 15,
     "metadata": {},
     "output_type": "execute_result"
    }
   ],
   "source": [
    "# just print the weight sizes (we'll omit the biases)\n",
    "[(k, v[0].data.shape) for k, v in solver.net.params.items()]"
   ]
  },
  {
   "cell_type": "markdown",
   "metadata": {},
   "source": [
    "## Work"
   ]
  },
  {
   "cell_type": "code",
   "execution_count": 7,
   "metadata": {
    "collapsed": false
   },
   "outputs": [
    {
     "name": "stdout",
     "output_type": "stream",
     "text": [
      "Iteration 0 testing...\n",
      "Iteration 1000 testing...\n"
     ]
    },
    {
     "ename": "KeyboardInterrupt",
     "evalue": "",
     "output_type": "error",
     "traceback": [
      "\u001b[0;31m---------------------------------------------------------------------------\u001b[0m",
      "\u001b[0;31mKeyboardInterrupt\u001b[0m                         Traceback (most recent call last)",
      "\u001b[0;32m<ipython-input-7-8398c68b3120>\u001b[0m in \u001b[0;36m<module>\u001b[0;34m()\u001b[0m\n\u001b[0;32m----> 1\u001b[0;31m \u001b[0mget_ipython\u001b[0m\u001b[0;34m(\u001b[0m\u001b[0;34m)\u001b[0m\u001b[0;34m.\u001b[0m\u001b[0mrun_cell_magic\u001b[0m\u001b[0;34m(\u001b[0m\u001b[0;34mu'time'\u001b[0m\u001b[0;34m,\u001b[0m \u001b[0;34mu''\u001b[0m\u001b[0;34m,\u001b[0m \u001b[0;34mu\"\\nniter = 20000\\ntest_interval = 1000\\ntrain_interval = 100\\n# losses will also be stored in the log\\ntrain_loss = np.zeros(int(np.ceil(niter / train_interval)))\\ntest_loss = np.zeros(int(np.ceil(niter // test_interval)))\\npictures_number = niter // test_interval\\nrowsnum = 10\\npicidx = 0\\n# the main solver loop\\nfor it in range(niter):\\n    solver.step(1)  # SGD by Caffe\\n    # store the train loss\\n    if it % train_interval == 0:\\n        train_loss[it / train_interval] = solver.net.blobs['loss'].data\\n    \\n    # run a full test every so often\\n    # (Caffe can also do this for us and write to a log, but we show here\\n    #  how to do it directly in Python, where more complicated things are easier.)\\n    if it % test_interval == 0:\\n        picidx += 1\\n        print 'Iteration', it, 'testing...'\\n        score = 0.0\\n        for test_it in range(testing_set_size // test_batch_size):\\n            solver.test_nets[0].forward()\\n            score = solver.test_nets[0].blobs['loss'].data\\n        test_loss[it // test_interval] = score\"\u001b[0m\u001b[0;34m)\u001b[0m\u001b[0;34m\u001b[0m\u001b[0m\n\u001b[0m",
      "\u001b[0;32m/home/dl3/anaconda/lib/python2.7/site-packages/IPython/core/interactiveshell.pyc\u001b[0m in \u001b[0;36mrun_cell_magic\u001b[0;34m(self, magic_name, line, cell)\u001b[0m\n\u001b[1;32m   2113\u001b[0m             \u001b[0mmagic_arg_s\u001b[0m \u001b[0;34m=\u001b[0m \u001b[0mself\u001b[0m\u001b[0;34m.\u001b[0m\u001b[0mvar_expand\u001b[0m\u001b[0;34m(\u001b[0m\u001b[0mline\u001b[0m\u001b[0;34m,\u001b[0m \u001b[0mstack_depth\u001b[0m\u001b[0;34m)\u001b[0m\u001b[0;34m\u001b[0m\u001b[0m\n\u001b[1;32m   2114\u001b[0m             \u001b[0;32mwith\u001b[0m \u001b[0mself\u001b[0m\u001b[0;34m.\u001b[0m\u001b[0mbuiltin_trap\u001b[0m\u001b[0;34m:\u001b[0m\u001b[0;34m\u001b[0m\u001b[0m\n\u001b[0;32m-> 2115\u001b[0;31m                 \u001b[0mresult\u001b[0m \u001b[0;34m=\u001b[0m \u001b[0mfn\u001b[0m\u001b[0;34m(\u001b[0m\u001b[0mmagic_arg_s\u001b[0m\u001b[0;34m,\u001b[0m \u001b[0mcell\u001b[0m\u001b[0;34m)\u001b[0m\u001b[0;34m\u001b[0m\u001b[0m\n\u001b[0m\u001b[1;32m   2116\u001b[0m             \u001b[0;32mreturn\u001b[0m \u001b[0mresult\u001b[0m\u001b[0;34m\u001b[0m\u001b[0m\n\u001b[1;32m   2117\u001b[0m \u001b[0;34m\u001b[0m\u001b[0m\n",
      "\u001b[0;32m<decorator-gen-59>\u001b[0m in \u001b[0;36mtime\u001b[0;34m(self, line, cell, local_ns)\u001b[0m\n",
      "\u001b[0;32m/home/dl3/anaconda/lib/python2.7/site-packages/IPython/core/magic.pyc\u001b[0m in \u001b[0;36m<lambda>\u001b[0;34m(f, *a, **k)\u001b[0m\n\u001b[1;32m    186\u001b[0m     \u001b[0;31m# but it's overkill for just that one bit of state.\u001b[0m\u001b[0;34m\u001b[0m\u001b[0;34m\u001b[0m\u001b[0m\n\u001b[1;32m    187\u001b[0m     \u001b[0;32mdef\u001b[0m \u001b[0mmagic_deco\u001b[0m\u001b[0;34m(\u001b[0m\u001b[0marg\u001b[0m\u001b[0;34m)\u001b[0m\u001b[0;34m:\u001b[0m\u001b[0;34m\u001b[0m\u001b[0m\n\u001b[0;32m--> 188\u001b[0;31m         \u001b[0mcall\u001b[0m \u001b[0;34m=\u001b[0m \u001b[0;32mlambda\u001b[0m \u001b[0mf\u001b[0m\u001b[0;34m,\u001b[0m \u001b[0;34m*\u001b[0m\u001b[0ma\u001b[0m\u001b[0;34m,\u001b[0m \u001b[0;34m**\u001b[0m\u001b[0mk\u001b[0m\u001b[0;34m:\u001b[0m \u001b[0mf\u001b[0m\u001b[0;34m(\u001b[0m\u001b[0;34m*\u001b[0m\u001b[0ma\u001b[0m\u001b[0;34m,\u001b[0m \u001b[0;34m**\u001b[0m\u001b[0mk\u001b[0m\u001b[0;34m)\u001b[0m\u001b[0;34m\u001b[0m\u001b[0m\n\u001b[0m\u001b[1;32m    189\u001b[0m \u001b[0;34m\u001b[0m\u001b[0m\n\u001b[1;32m    190\u001b[0m         \u001b[0;32mif\u001b[0m \u001b[0mcallable\u001b[0m\u001b[0;34m(\u001b[0m\u001b[0marg\u001b[0m\u001b[0;34m)\u001b[0m\u001b[0;34m:\u001b[0m\u001b[0;34m\u001b[0m\u001b[0m\n",
      "\u001b[0;32m/home/dl3/anaconda/lib/python2.7/site-packages/IPython/core/magics/execution.pyc\u001b[0m in \u001b[0;36mtime\u001b[0;34m(self, line, cell, local_ns)\u001b[0m\n\u001b[1;32m   1178\u001b[0m         \u001b[0;32melse\u001b[0m\u001b[0;34m:\u001b[0m\u001b[0;34m\u001b[0m\u001b[0m\n\u001b[1;32m   1179\u001b[0m             \u001b[0mst\u001b[0m \u001b[0;34m=\u001b[0m \u001b[0mclock2\u001b[0m\u001b[0;34m(\u001b[0m\u001b[0;34m)\u001b[0m\u001b[0;34m\u001b[0m\u001b[0m\n\u001b[0;32m-> 1180\u001b[0;31m             \u001b[0;32mexec\u001b[0m\u001b[0;34m(\u001b[0m\u001b[0mcode\u001b[0m\u001b[0;34m,\u001b[0m \u001b[0mglob\u001b[0m\u001b[0;34m,\u001b[0m \u001b[0mlocal_ns\u001b[0m\u001b[0;34m)\u001b[0m\u001b[0;34m\u001b[0m\u001b[0m\n\u001b[0m\u001b[1;32m   1181\u001b[0m             \u001b[0mend\u001b[0m \u001b[0;34m=\u001b[0m \u001b[0mclock2\u001b[0m\u001b[0;34m(\u001b[0m\u001b[0;34m)\u001b[0m\u001b[0;34m\u001b[0m\u001b[0m\n\u001b[1;32m   1182\u001b[0m             \u001b[0mout\u001b[0m \u001b[0;34m=\u001b[0m \u001b[0mNone\u001b[0m\u001b[0;34m\u001b[0m\u001b[0m\n",
      "\u001b[0;32m<timed exec>\u001b[0m in \u001b[0;36m<module>\u001b[0;34m()\u001b[0m\n",
      "\u001b[0;31mKeyboardInterrupt\u001b[0m: "
     ]
    }
   ],
   "source": [
    "%%time\n",
    "\n",
    "niter = 20000\n",
    "test_interval = 1000\n",
    "train_interval = 100\n",
    "# losses will also be stored in the log\n",
    "train_loss = np.zeros(int(np.ceil(niter / train_interval)))\n",
    "test_loss = np.zeros(int(np.ceil(niter // test_interval)))\n",
    "pictures_number = niter // test_interval\n",
    "rowsnum = 10\n",
    "picidx = 0\n",
    "# the main solver loop\n",
    "for it in range(niter):\n",
    "    solver.step(1)  # SGD by Caffe\n",
    "    # store the train loss\n",
    "    if it % train_interval == 0:\n",
    "        train_loss[it / train_interval] = solver.net.blobs['loss'].data\n",
    "    \n",
    "    # run a full test every so often\n",
    "    # (Caffe can also do this for us and write to a log, but we show here\n",
    "    #  how to do it directly in Python, where more complicated things are easier.)\n",
    "    if it % test_interval == 0:\n",
    "        picidx += 1\n",
    "        print 'Iteration', it, 'testing...'\n",
    "        score = 0.0\n",
    "        for test_it in range(testing_set_size // test_batch_size):\n",
    "            solver.test_nets[0].forward()\n",
    "            score = solver.test_nets[0].blobs['loss'].data\n",
    "        test_loss[it // test_interval] = score\n"
   ]
  },
  {
   "cell_type": "code",
   "execution_count": 7,
   "metadata": {
    "collapsed": false
   },
   "outputs": [
    {
     "data": {
      "text/plain": [
       "array(100761.375, dtype=float32)"
      ]
     },
     "execution_count": 7,
     "metadata": {},
     "output_type": "execute_result"
    }
   ],
   "source": [
    "solver.test_nets[0].blobs['loss'].data"
   ]
  },
  {
   "cell_type": "markdown",
   "metadata": {},
   "source": [
    "## Other"
   ]
  },
  {
   "cell_type": "code",
   "execution_count": 7,
   "metadata": {
    "collapsed": false
   },
   "outputs": [
    {
     "ename": "NameError",
     "evalue": "name 'psw' is not defined",
     "output_type": "error",
     "traceback": [
      "\u001b[0;31m---------------------------------------------------------------------------\u001b[0m",
      "\u001b[0;31mNameError\u001b[0m                                 Traceback (most recent call last)",
      "\u001b[0;32m<ipython-input-7-a42c10f95349>\u001b[0m in \u001b[0;36m<module>\u001b[0;34m()\u001b[0m\n\u001b[1;32m     51\u001b[0m \u001b[0;34m\u001b[0m\u001b[0m\n\u001b[1;32m     52\u001b[0m     \u001b[0;31m# Send notification email\u001b[0m\u001b[0;34m\u001b[0m\u001b[0;34m\u001b[0m\u001b[0m\n\u001b[0;32m---> 53\u001b[0;31m     \u001b[0mnoticeEMail\u001b[0m\u001b[0;34m(\u001b[0m\u001b[0mnp\u001b[0m\u001b[0;34m.\u001b[0m\u001b[0marray_str\u001b[0m\u001b[0;34m(\u001b[0m\u001b[0mtrain_loss\u001b[0m\u001b[0;34m)\u001b[0m\u001b[0;34m,\u001b[0m \u001b[0mnp\u001b[0m\u001b[0;34m.\u001b[0m\u001b[0marray_str\u001b[0m\u001b[0;34m(\u001b[0m\u001b[0mtest_loss\u001b[0m\u001b[0;34m)\u001b[0m\u001b[0;34m,\u001b[0m \u001b[0musr\u001b[0m\u001b[0;34m,\u001b[0m \u001b[0mpsw\u001b[0m\u001b[0;34m,\u001b[0m \u001b[0mfromaddr\u001b[0m\u001b[0;34m,\u001b[0m \u001b[0mtoaddr\u001b[0m\u001b[0;34m)\u001b[0m\u001b[0;34m\u001b[0m\u001b[0m\n\u001b[0m",
      "\u001b[0;31mNameError\u001b[0m: name 'psw' is not defined"
     ]
    }
   ],
   "source": [
    "# send results via email\n",
    "#!/usr/bin/env python\n",
    "# encoding: utf-8\n",
    "\n",
    "import smtplib\n",
    "from datetime import datetime\n",
    "\n",
    "\n",
    "def noticeEMail(train_str, test_str, usr, psw, fromaddr, toaddr):\n",
    "    \"\"\"\n",
    "    Sends an email message through GMail once the script is completed.  \n",
    "    Developed to be used with AWS so that instances can be terminated \n",
    "    once a long job is done. Only works for those with GMail accounts.\n",
    "    \n",
    "    starttime : a datetime() object for when to start run time clock\n",
    "    usr : the GMail username, as a string\n",
    "    psw : the GMail password, as a string \n",
    "    \n",
    "    fromaddr : the email address the message will be from, as a string\n",
    "    \n",
    "    toaddr : a email address, or a list of addresses, to send the \n",
    "             message to\n",
    "    \"\"\"\n",
    "\n",
    "    \n",
    "    # Initialize SMTP server\n",
    "    server=smtplib.SMTP('smtp.gmail.com:587')\n",
    "    server.starttls()\n",
    "    server.login(usr,psw)\n",
    "    \n",
    "    # Send email\n",
    "    senddate=datetime.strftime(datetime.now(), '%Y-%m-%d')\n",
    "    subject=\"Your job is complete\"\n",
    "    m=\"Date: %s\\r\\nFrom: %s\\r\\nTo: %s\\r\\nSubject: %s\\r\\nX-Mailer: My-Mail\\r\\n\\r\\n\" % (senddate, fromaddr, toaddr, subject)\n",
    "    msg='''\n",
    "    \n",
    "    train: ''' + train_str + ''' \n",
    "    \n",
    "    test ''' + test_str\n",
    "    \n",
    "    server.sendmail(fromaddr, toaddr, m+msg)\n",
    "    server.quit()\n",
    "\n",
    "\n",
    "if __name__ == '__main__':    \n",
    "    # Fill these in with the appropriate info...\n",
    "    usr='dem4064@gmail.com'\n",
    "    # psw=''\n",
    "    fromaddr='dem4064@gmail.com'\n",
    "    toaddr='dmitriy.denisenko@phystech.edu'\n",
    "\n",
    "    # Send notification email\n",
    "    noticeEMail(np.array_str(train_loss), np.array_str(test_loss), usr, psw, fromaddr, toaddr)"
   ]
  },
  {
   "cell_type": "code",
   "execution_count": 8,
   "metadata": {
    "collapsed": false
   },
   "outputs": [
    {
     "data": {
      "image/png": "[encoded data removed]",
      "text/plain": [
       "<matplotlib.figure.Figure at 0x7f4c6311f5d0>"
      ]
     },
     "metadata": {},
     "output_type": "display_data"
    }
   ],
   "source": [
    "from matplotlib import pyplot as plt\n",
    "%matplotlib inline\n",
    "plt.figure(num=1, figsize=(48,24), dpi=80, facecolor='w', edgecolor='k')\n",
    "plt.subplot()\n",
    "plt.grid(True)\n",
    "plt.plot(train_interval * np.arange(len(train_loss)), train_loss)\n",
    "plt.plot(test_interval * np.arange(len(test_loss)), test_loss, 'r')\n",
    "plt.xlabel('iteration')\n",
    "plt.ylabel('loss')\n",
    "plt.title('loss, iteration %d' % it)\n",
    "plt.legend(['train', 'test'], loc='best')\n",
    "plt.show()"
   ]
  },
  {
   "cell_type": "code",
   "execution_count": null,
   "metadata": {
    "collapsed": true
   },
   "outputs": [],
   "source": [
    "weights = 'snapshot/snap-srcnn.caffemodel'\n",
    "model = 'srcnn_auto_train.prototxt'\n",
    "\n",
    "net = caffe.Net(model, weights, caffe.TEST)"
   ]
  },
  {
   "cell_type": "code",
   "execution_count": 10,
   "metadata": {
    "collapsed": false
   },
   "outputs": [
    {
     "data": {
      "text/plain": [
       "array([[[ -4.17183677e-04,  -4.17841569e-04,  -4.20363824e-04, ...,\n",
       "          -4.34066373e-04,  -4.35508700e-04,  -4.37079492e-04],\n",
       "        [ -4.19656717e-04,  -4.19040094e-04,  -4.20864526e-04, ...,\n",
       "          -4.35323920e-04,  -4.35247144e-04,  -4.37755079e-04],\n",
       "        [ -4.22127894e-04,  -4.23485733e-04,  -4.24535567e-04, ...,\n",
       "          -4.40115575e-04,  -4.41251264e-04,  -4.41136945e-04],\n",
       "        ..., \n",
       "        [ -9.05431589e-05,  -8.82067470e-05,  -9.41019171e-05, ...,\n",
       "          -1.95186934e-04,  -1.64876910e-04,  -8.51270015e-05],\n",
       "        [ -8.06828757e-05,  -7.07357613e-05,  -8.04632946e-05, ...,\n",
       "          -1.84643912e-04,  -1.29658802e-04,  -9.18739388e-05],\n",
       "        [ -7.22426921e-05,  -6.72766473e-05,  -7.70678744e-05, ...,\n",
       "          -1.57149567e-04,  -7.81891649e-05,  -5.89261836e-05]],\n",
       "\n",
       "       [[ -4.54771303e-04,  -4.56895039e-04,  -4.55480418e-04, ...,\n",
       "          -4.82432311e-04,  -4.79562208e-04,  -4.79974435e-04],\n",
       "        [ -4.55182657e-04,  -4.57413378e-04,  -4.55701869e-04, ...,\n",
       "          -4.84529213e-04,  -4.81681171e-04,  -4.80385876e-04],\n",
       "        [ -4.61418036e-04,  -4.61249903e-04,  -4.60337877e-04, ...,\n",
       "          -4.90597100e-04,  -4.87095094e-04,  -4.86309204e-04],\n",
       "        ..., \n",
       "        [ -1.53830188e-04,  -1.49161322e-04,  -1.48379651e-04, ...,\n",
       "          -5.72383462e-04,  -6.06992689e-04,  -6.19042548e-04],\n",
       "        [ -1.71757682e-04,  -1.54458088e-04,  -1.40629883e-04, ...,\n",
       "          -5.87401097e-04,  -6.11435040e-04,  -5.75901126e-04],\n",
       "        [ -1.67705613e-04,  -1.51655549e-04,  -1.45734812e-04, ...,\n",
       "          -5.89761301e-04,  -5.98069513e-04,  -5.41435205e-04]],\n",
       "\n",
       "       [[  3.07436887e-04,   3.10555362e-04,   3.11942364e-04, ...,\n",
       "           3.23455431e-04,   3.25306668e-04,   3.25929082e-04],\n",
       "        [  3.07828217e-04,   3.10830481e-04,   3.13960918e-04, ...,\n",
       "           3.24263761e-04,   3.27864953e-04,   3.28141468e-04],\n",
       "        [  3.15061625e-04,   3.12988792e-04,   3.14239616e-04, ...,\n",
       "           3.29690578e-04,   3.32489522e-04,   3.32891999e-04],\n",
       "        ..., \n",
       "        [  1.06013205e-04,   1.08392866e-04,   8.38218912e-05, ...,\n",
       "           3.28178779e-04,   3.87651293e-04,   4.21737670e-04],\n",
       "        [  1.04913139e-04,   1.08017528e-04,   9.16739446e-05, ...,\n",
       "           3.12198594e-04,   3.88768560e-04,   4.05907806e-04],\n",
       "        [  8.83922767e-05,   1.03462262e-04,   1.08899600e-04, ...,\n",
       "           3.26536130e-04,   3.72048526e-04,   3.57529672e-04]]], dtype=float32)"
      ]
     },
     "execution_count": 10,
     "metadata": {},
     "output_type": "execute_result"
    }
   ],
   "source": [
    "solver.test_nets[0].blobs['conv3'].data"
   ]
  },
  {
   "cell_type": "code",
   "execution_count": 13,
   "metadata": {
    "collapsed": false
   },
   "outputs": [
    {
     "data": {
      "text/plain": [
       "array([[[[ 0.39453125,  0.39453125,  0.39453125, ...,  0.4140625 ,\n",
       "           0.4140625 ,  0.4140625 ],\n",
       "         [ 0.3984375 ,  0.3984375 ,  0.3984375 , ...,  0.41796875,\n",
       "           0.41796875,  0.41796875],\n",
       "         [ 0.40234375,  0.40625   ,  0.40625   , ...,  0.42578125,\n",
       "           0.4296875 ,  0.4296875 ],\n",
       "         ..., \n",
       "         [ 0.05078125,  0.0234375 ,  0.0234375 , ...,  0.        ,\n",
       "           0.        ,  0.        ],\n",
       "         [ 0.02734375,  0.        ,  0.        , ...,  0.19921875,\n",
       "           0.16796875,  0.13671875],\n",
       "         [ 0.        ,  0.02734375,  0.046875  , ...,  0.0703125 ,\n",
       "           0.125     ,  0.09375   ]],\n",
       "\n",
       "        [[ 0.265625  ,  0.265625  ,  0.265625  , ...,  0.28515625,\n",
       "           0.28515625,  0.28515625],\n",
       "         [ 0.26953125,  0.26953125,  0.26953125, ...,  0.2890625 ,\n",
       "           0.2890625 ,  0.2890625 ],\n",
       "         [ 0.2734375 ,  0.27734375,  0.27734375, ...,  0.28515625,\n",
       "           0.2890625 ,  0.2890625 ],\n",
       "         ..., \n",
       "         [ 0.125     ,  0.078125  ,  0.0703125 , ...,  0.109375  ,\n",
       "           0.09765625,  0.14453125],\n",
       "         [ 0.09375   ,  0.05859375,  0.046875  , ...,  0.328125  ,\n",
       "           0.28125   ,  0.3125    ],\n",
       "         [ 0.03125   ,  0.05078125,  0.0703125 , ...,  0.27734375,\n",
       "           0.3828125 ,  0.31640625]],\n",
       "\n",
       "        [[ 0.19140625,  0.19140625,  0.19140625, ...,  0.2109375 ,\n",
       "           0.2109375 ,  0.2109375 ],\n",
       "         [ 0.1953125 ,  0.1953125 ,  0.1953125 , ...,  0.21484375,\n",
       "           0.21484375,  0.21484375],\n",
       "         [ 0.19921875,  0.203125  ,  0.203125  , ...,  0.21484375,\n",
       "           0.21875   ,  0.21875   ],\n",
       "         ..., \n",
       "         [ 0.14453125,  0.1015625 ,  0.09375   , ...,  0.17578125,\n",
       "           0.16015625,  0.2265625 ],\n",
       "         [ 0.10546875,  0.0703125 ,  0.0546875 , ...,  0.390625  ,\n",
       "           0.33984375,  0.3671875 ],\n",
       "         [ 0.046875  ,  0.0703125 ,  0.08984375, ...,  0.359375  ,\n",
       "           0.49609375,  0.41796875]]],\n",
       "\n",
       "\n",
       "       [[[ 0.05078125,  0.05859375,  0.0625    , ...,  0.46484375,\n",
       "           0.44140625,  0.44921875],\n",
       "         [ 0.05859375,  0.0625    ,  0.06640625, ...,  0.4609375 ,\n",
       "           0.453125  ,  0.453125  ],\n",
       "         [ 0.0703125 ,  0.0703125 ,  0.06640625, ...,  0.44140625,\n",
       "           0.44140625,  0.44921875],\n",
       "         ..., \n",
       "         [ 0.05859375,  0.10546875,  0.125     , ...,  0.5390625 ,\n",
       "           0.24609375,  0.16796875],\n",
       "         [ 0.0390625 ,  0.0703125 ,  0.09765625, ...,  0.1171875 ,\n",
       "           0.09765625,  0.09765625],\n",
       "         [ 0.03125   ,  0.046875  ,  0.05859375, ...,  0.125     ,\n",
       "           0.09765625,  0.0703125 ]],\n",
       "\n",
       "        [[ 0.0859375 ,  0.09375   ,  0.09765625, ...,  0.609375  ,\n",
       "           0.5859375 ,  0.58984375],\n",
       "         [ 0.09375   ,  0.09765625,  0.1015625 , ...,  0.60546875,\n",
       "           0.59765625,  0.59375   ],\n",
       "         [ 0.10546875,  0.10546875,  0.1015625 , ...,  0.5859375 ,\n",
       "           0.5859375 ,  0.58984375],\n",
       "         ..., \n",
       "         [ 0.16015625,  0.20703125,  0.2265625 , ...,  0.65234375,\n",
       "           0.359375  ,  0.2734375 ],\n",
       "         [ 0.12890625,  0.16015625,  0.1953125 , ...,  0.23046875,\n",
       "           0.203125  ,  0.19921875],\n",
       "         [ 0.12109375,  0.13671875,  0.15625   , ...,  0.22265625,\n",
       "           0.1953125 ,  0.1640625 ]],\n",
       "\n",
       "        [[ 0.09765625,  0.10546875,  0.109375  , ...,  0.7109375 ,\n",
       "           0.6875    ,  0.68359375],\n",
       "         [ 0.10546875,  0.109375  ,  0.11328125, ...,  0.70703125,\n",
       "           0.69921875,  0.6875    ],\n",
       "         [ 0.1171875 ,  0.1171875 ,  0.11328125, ...,  0.6875    ,\n",
       "           0.6875    ,  0.68359375],\n",
       "         ..., \n",
       "         [ 0.21484375,  0.26953125,  0.29296875, ...,  0.734375  ,\n",
       "           0.44140625,  0.3515625 ],\n",
       "         [ 0.1875    ,  0.21875   ,  0.2578125 , ...,  0.3125    ,\n",
       "           0.28515625,  0.265625  ],\n",
       "         [ 0.15234375,  0.16796875,  0.1953125 , ...,  0.28515625,\n",
       "           0.2578125 ,  0.2109375 ]]],\n",
       "\n",
       "\n",
       "       [[[ 0.        ,  0.06640625,  0.05078125, ...,  0.60546875,\n",
       "           0.33203125,  0.        ],\n",
       "         [ 0.08203125,  0.125     ,  0.109375  , ...,  0.88671875,\n",
       "           0.50390625,  0.0625    ],\n",
       "         [ 0.05078125,  0.03125   ,  0.03125   , ...,  0.85546875,\n",
       "           0.41015625,  0.04296875],\n",
       "         ..., \n",
       "         [ 0.10546875,  0.06640625,  0.13671875, ...,  0.41796875,\n",
       "           0.        ,  0.09375   ],\n",
       "         [ 0.03125   ,  0.0234375 ,  0.08984375, ...,  0.74609375,\n",
       "           0.0234375 ,  0.12109375],\n",
       "         [ 0.1015625 ,  0.05078125,  0.02734375, ...,  0.31640625,\n",
       "           0.        ,  0.00390625]],\n",
       "\n",
       "        [[ 0.1015625 ,  0.171875  ,  0.13671875, ...,  0.69921875,\n",
       "           0.3671875 ,  0.04296875],\n",
       "         [ 0.19140625,  0.21875   ,  0.20703125, ...,  0.98046875,\n",
       "           0.5546875 ,  0.125     ],\n",
       "         [ 0.14453125,  0.125     ,  0.1328125 , ...,  0.95703125,\n",
       "           0.4921875 ,  0.10546875],\n",
       "         ..., \n",
       "         [ 0.2734375 ,  0.23046875,  0.29296875, ...,  0.5       ,\n",
       "           0.0546875 ,  0.25      ],\n",
       "         [ 0.19921875,  0.1875    ,  0.24609375, ...,  0.8359375 ,\n",
       "           0.07421875,  0.26953125],\n",
       "         [ 0.2890625 ,  0.2109375 ,  0.171875  , ...,  0.3984375 ,\n",
       "           0.02734375,  0.15234375]],\n",
       "\n",
       "        [[ 0.1796875 ,  0.25390625,  0.20703125, ...,  0.74609375,\n",
       "           0.421875  ,  0.11328125],\n",
       "         [ 0.2578125 ,  0.2890625 ,  0.26953125, ...,  0.99609375,\n",
       "           0.609375  ,  0.17578125],\n",
       "         [ 0.19140625,  0.171875  ,  0.1875    , ...,  0.99609375,\n",
       "           0.55078125,  0.15234375],\n",
       "         ..., \n",
       "         [ 0.35546875,  0.3203125 ,  0.390625  , ...,  0.55859375,\n",
       "           0.1171875 ,  0.359375  ],\n",
       "         [ 0.28125   ,  0.27734375,  0.34375   , ...,  0.89453125,\n",
       "           0.12890625,  0.38671875],\n",
       "         [ 0.3828125 ,  0.30078125,  0.2578125 , ...,  0.48046875,\n",
       "           0.12109375,  0.24609375]]],\n",
       "\n",
       "\n",
       "       ..., \n",
       "       [[[ 0.03125   ,  0.03125   ,  0.03125   , ...,  0.03125   ,\n",
       "           0.03125   ,  0.03125   ],\n",
       "         [ 0.03125   ,  0.03125   ,  0.03125   , ...,  0.03125   ,\n",
       "           0.03125   ,  0.03125   ],\n",
       "         [ 0.03125   ,  0.03125   ,  0.03125   , ...,  0.03125   ,\n",
       "           0.03125   ,  0.03125   ],\n",
       "         ..., \n",
       "         [ 0.03125   ,  0.03125   ,  0.03125   , ...,  0.53515625,\n",
       "           0.53125   ,  0.03125   ],\n",
       "         [ 0.03125   ,  0.03125   ,  0.03125   , ...,  0.546875  ,\n",
       "           0.5390625 ,  0.03125   ],\n",
       "         [ 0.03125   ,  0.03125   ,  0.03125   , ...,  0.5546875 ,\n",
       "           0.5625    ,  0.03125   ]],\n",
       "\n",
       "        [[ 0.02734375,  0.02734375,  0.02734375, ...,  0.02734375,\n",
       "           0.02734375,  0.02734375],\n",
       "         [ 0.02734375,  0.02734375,  0.02734375, ...,  0.02734375,\n",
       "           0.02734375,  0.02734375],\n",
       "         [ 0.02734375,  0.02734375,  0.02734375, ...,  0.02734375,\n",
       "           0.02734375,  0.02734375],\n",
       "         ..., \n",
       "         [ 0.02734375,  0.02734375,  0.02734375, ...,  0.484375  ,\n",
       "           0.48046875,  0.02734375],\n",
       "         [ 0.02734375,  0.02734375,  0.02734375, ...,  0.49609375,\n",
       "           0.48828125,  0.02734375],\n",
       "         [ 0.02734375,  0.02734375,  0.02734375, ...,  0.50390625,\n",
       "           0.51171875,  0.02734375]],\n",
       "\n",
       "        [[ 0.03515625,  0.03515625,  0.03515625, ...,  0.03515625,\n",
       "           0.03515625,  0.03515625],\n",
       "         [ 0.03515625,  0.03515625,  0.03515625, ...,  0.03515625,\n",
       "           0.03515625,  0.03515625],\n",
       "         [ 0.03515625,  0.03515625,  0.03515625, ...,  0.03515625,\n",
       "           0.03515625,  0.03515625],\n",
       "         ..., \n",
       "         [ 0.03515625,  0.03515625,  0.03515625, ...,  0.515625  ,\n",
       "           0.51171875,  0.03515625],\n",
       "         [ 0.03515625,  0.03515625,  0.03515625, ...,  0.52734375,\n",
       "           0.51953125,  0.03515625],\n",
       "         [ 0.03515625,  0.03515625,  0.03515625, ...,  0.53515625,\n",
       "           0.54296875,  0.03515625]]],\n",
       "\n",
       "\n",
       "       [[[ 0.09375   ,  0.12109375,  0.1796875 , ...,  0.1640625 ,\n",
       "           0.19921875,  0.3515625 ],\n",
       "         [ 0.1328125 ,  0.1796875 ,  0.24609375, ...,  0.16015625,\n",
       "           0.25      ,  0.328125  ],\n",
       "         [ 0.13671875,  0.18359375,  0.265625  , ...,  0.15625   ,\n",
       "           0.21875   ,  0.22265625],\n",
       "         ..., \n",
       "         [ 0.4296875 ,  0.43359375,  0.40234375, ...,  0.359375  ,\n",
       "           0.5546875 ,  0.49609375],\n",
       "         [ 0.3984375 ,  0.4453125 ,  0.4296875 , ...,  0.23828125,\n",
       "           0.2734375 ,  0.36328125],\n",
       "         [ 0.3984375 ,  0.47265625,  0.46484375, ...,  0.3203125 ,\n",
       "           0.38671875,  0.34765625]],\n",
       "\n",
       "        [[ 0.1328125 ,  0.19921875,  0.3046875 , ...,  0.234375  ,\n",
       "           0.26953125,  0.43359375],\n",
       "         [ 0.1953125 ,  0.2734375 ,  0.37109375, ...,  0.23046875,\n",
       "           0.30859375,  0.3984375 ],\n",
       "         [ 0.2421875 ,  0.296875  ,  0.38671875, ...,  0.21484375,\n",
       "           0.265625  ,  0.28125   ],\n",
       "         ..., \n",
       "         [ 0.4453125 ,  0.45703125,  0.42578125, ...,  0.4375    ,\n",
       "           0.62890625,  0.54296875],\n",
       "         [ 0.38671875,  0.43359375,  0.41796875, ...,  0.35546875,\n",
       "           0.359375  ,  0.38671875],\n",
       "         [ 0.3671875 ,  0.4453125 ,  0.43359375, ...,  0.32421875,\n",
       "           0.359375  ,  0.3828125 ]],\n",
       "\n",
       "        [[ 0.109375  ,  0.1796875 ,  0.28515625, ...,  0.23828125,\n",
       "           0.2734375 ,  0.42578125],\n",
       "         [ 0.16796875,  0.2421875 ,  0.3515625 , ...,  0.234375  ,\n",
       "           0.31640625,  0.39453125],\n",
       "         [ 0.203125  ,  0.26171875,  0.359375  , ...,  0.2265625 ,\n",
       "           0.28125   ,  0.2890625 ],\n",
       "         ..., \n",
       "         [ 0.40234375,  0.4140625 ,  0.3828125 , ...,  0.34765625,\n",
       "           0.53125   ,  0.45703125],\n",
       "         [ 0.328125  ,  0.375     ,  0.36328125, ...,  0.2421875 ,\n",
       "           0.25      ,  0.3203125 ],\n",
       "         [ 0.27734375,  0.34765625,  0.3203125 , ...,  0.26171875,\n",
       "           0.29296875,  0.30078125]]],\n",
       "\n",
       "\n",
       "       [[[ 0.609375  ,  0.625     ,  0.60546875, ...,  0.625     ,\n",
       "           0.625     ,  0.625     ],\n",
       "         [ 0.60546875,  0.6171875 ,  0.59375   , ...,  0.625     ,\n",
       "           0.625     ,  0.6328125 ],\n",
       "         [ 0.625     ,  0.62890625,  0.609375  , ...,  0.625     ,\n",
       "           0.62109375,  0.62890625],\n",
       "         ..., \n",
       "         [ 0.15625   ,  0.140625  ,  0.11328125, ...,  0.203125  ,\n",
       "           0.16015625,  0.16796875],\n",
       "         [ 0.13671875,  0.1015625 ,  0.12109375, ...,  0.15234375,\n",
       "           0.1484375 ,  0.14453125],\n",
       "         [ 0.1171875 ,  0.109375  ,  0.14453125, ...,  0.140625  ,\n",
       "           0.12890625,  0.140625  ]],\n",
       "\n",
       "        [[ 0.6484375 ,  0.6640625 ,  0.64453125, ...,  0.6875    ,\n",
       "           0.6875    ,  0.6796875 ],\n",
       "         [ 0.64453125,  0.65625   ,  0.6328125 , ...,  0.6875    ,\n",
       "           0.6875    ,  0.6875    ],\n",
       "         [ 0.65234375,  0.65625   ,  0.63671875, ...,  0.6875    ,\n",
       "           0.68359375,  0.68359375],\n",
       "         ..., \n",
       "         [ 0.25390625,  0.23046875,  0.19140625, ...,  0.265625  ,\n",
       "           0.22265625,  0.2265625 ],\n",
       "         [ 0.234375  ,  0.19140625,  0.19921875, ...,  0.21484375,\n",
       "           0.203125  ,  0.19921875],\n",
       "         [ 0.2109375 ,  0.19921875,  0.21875   , ...,  0.1953125 ,\n",
       "           0.18359375,  0.18359375]],\n",
       "\n",
       "        [[ 0.625     ,  0.640625  ,  0.62109375, ...,  0.68359375,\n",
       "           0.68359375,  0.67578125],\n",
       "         [ 0.62109375,  0.6328125 ,  0.609375  , ...,  0.68359375,\n",
       "           0.68359375,  0.68359375],\n",
       "         [ 0.6328125 ,  0.63671875,  0.6171875 , ...,  0.68359375,\n",
       "           0.6796875 ,  0.6796875 ],\n",
       "         ..., \n",
       "         [ 0.23828125,  0.2109375 ,  0.171875  , ...,  0.26171875,\n",
       "           0.21875   ,  0.2109375 ],\n",
       "         [ 0.21875   ,  0.17578125,  0.1796875 , ...,  0.2109375 ,\n",
       "           0.19921875,  0.18359375],\n",
       "         [ 0.1796875 ,  0.16796875,  0.18359375, ...,  0.1796875 ,\n",
       "           0.17578125,  0.15234375]]]], dtype=float32)"
      ]
     },
     "execution_count": 13,
     "metadata": {},
     "output_type": "execute_result"
    }
   ],
   "source": [
    "solver.test_nets[0].blobs['orim'].data"
   ]
  },
  {
   "cell_type": "code",
   "execution_count": null,
   "metadata": {
    "collapsed": true
   },
   "outputs": [],
   "source": []
  }
 ],
 "metadata": {
  "anaconda-cloud": {},
  "kernelspec": {
   "display_name": "Python [default]",
   "language": "python",
   "name": "python2"
  },
  "language_info": {
   "codemirror_mode": {
    "name": "ipython",
    "version": 2
   },
   "file_extension": ".py",
   "mimetype": "text/x-python",
   "name": "python",
   "nbconvert_exporter": "python",
   "pygments_lexer": "ipython2",
   "version": "2.7.12"
  }
 },
 "nbformat": 4,
 "nbformat_minor": 1
}
